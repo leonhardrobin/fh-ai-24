{
  "nbformat": 4,
  "nbformat_minor": 0,
  "metadata": {
    "colab": {
      "provenance": [],
      "include_colab_link": true
    },
    "kernelspec": {
      "name": "python3",
      "display_name": "Python 3"
    },
    "language_info": {
      "name": "python"
    }
  },
  "cells": [
    {
      "cell_type": "markdown",
      "metadata": {
        "id": "view-in-github",
        "colab_type": "text"
      },
      "source": [
        "<a href=\"https://colab.research.google.com/github/leonhardrobin/fh-ai-24/blob/main/AI_WS2425_kMeans_Clustering.ipynb\" target=\"_parent\"><img src=\"https://colab.research.google.com/assets/colab-badge.svg\" alt=\"Open In Colab\"/></a>"
      ]
    },
    {
      "cell_type": "code",
      "metadata": {
        "id": "lqJ363ojGHRr",
        "colab": {
          "base_uri": "https://localhost:8080/"
        },
        "outputId": "99d277be-4e40-4aa6-f2a1-d042253fa696"
      },
      "source": [
        "# import a couple of libraries\n",
        "import math\n",
        "from collections import Counter\n",
        "import random as rand\n",
        "print(\"import completed\")\n"
      ],
      "execution_count": 6,
      "outputs": [
        {
          "output_type": "stream",
          "name": "stdout",
          "text": [
            "import completed\n"
          ]
        }
      ]
    },
    {
      "cell_type": "markdown",
      "metadata": {
        "id": "txLkiDsIEe4U"
      },
      "source": [
        "Create a \"Fish\" class with the properties length, brightness, and a text label describing which class (i.e., Salmon/Sea Bass) it belongs to."
      ]
    },
    {
      "cell_type": "code",
      "metadata": {
        "id": "_Ox0rsimJEHD",
        "colab": {
          "base_uri": "https://localhost:8080/"
        },
        "outputId": "01f45d0c-f85a-4af0-9e89-d54cdf0ac768"
      },
      "source": [
        "class Fish(object):\n",
        "  def __init__(self,length,brightness,label):\n",
        "    self.length=length\n",
        "    self.brightness = brightness\n",
        "    self.label = label\n",
        "\n",
        "  def distanceTo(self,r):\n",
        "    #TODO: the function should return the Euclidian distance between the object (i.e., \"self\") and a reference object r\n",
        "    return(math.sqrt((self.length-r.length)**2 + (self.brightness-r.brightness)**2))\n",
        "\n",
        "print(\"class fish interpreted\")"
      ],
      "execution_count": 2,
      "outputs": [
        {
          "output_type": "stream",
          "name": "stdout",
          "text": [
            "class fish interpreted\n"
          ]
        }
      ]
    },
    {
      "cell_type": "code",
      "metadata": {
        "id": "_FCrsHeGAl7I"
      },
      "source": [
        "class KMeans(object):\n",
        "  def __init__(self,array):\n",
        "    self.array = array\n",
        "\n",
        "  def cluster(self,n):\n",
        "    if((n<=1) or (n>len(self.array))):\n",
        "      return \"more than 1 cluster needed\"\n",
        "\n",
        "    #TODO implement the k-Means clustering by creating a list of cluster centers (clusters[])\n",
        "    #and a list of items that belong to each cluster center (clusterItems[]),\n",
        "    #where the index corresponds between both arrays\n",
        "    clusters = []\n",
        "    clusterItems = []\n",
        "    for i in range(n):\n",
        "      clusters.append(self.array[i])\n",
        "      clusterItems.append([])\n",
        "\n",
        "    print(\"\\n\")\n",
        "    for i in range(n):\n",
        "      print(\"Cluster \" +str(i)+\" \"+str(clusters[i].length)+\" \"+str(clusters[i].brightness))\n",
        "      for u in range(len(clusterItems[i])):\n",
        "        print(clusterItems[i][u].label+\" \"+str(clusterItems[i][u].length)+\" \"+str(clusterItems[i][u].brightness))\n",
        "\n",
        "\n"
      ],
      "execution_count": 7,
      "outputs": []
    },
    {
      "cell_type": "markdown",
      "metadata": {
        "id": "FX2dgw0YsW6g"
      },
      "source": [
        "Some examples to test the clustering. We create a couple of fish for the pond (again) and instantiate a k-Means clustering algorithm. We then cluster based on 2 cluster centers (we know that there are 2 classes) and print out the result"
      ]
    },
    {
      "cell_type": "code",
      "metadata": {
        "colab": {
          "base_uri": "https://localhost:8080/"
        },
        "id": "ZI1epbLQyBQe",
        "outputId": "1bfb4c82-f812-4f07-824c-296a795764ac"
      },
      "source": [
        "import sys\n",
        "Fish1 = Fish(10,10,\"Bass\")\n",
        "Fish2 = Fish(10,8,\"Bass\")\n",
        "Fish3 = Fish(9,8,\"Bass\")\n",
        "Fish4 = Fish(9,9,\"Bass\")\n",
        "Fish5 = Fish(8,7,\"Bass\")\n",
        "\n",
        "Fish6 = Fish(2,1,\"Salmon\")\n",
        "Fish7 = Fish(2,3,\"Salmon\")\n",
        "Fish8 = Fish(3,2,\"Salmon\")\n",
        "Fish9 = Fish(3,1,\"Salmon\")\n",
        "Fish10 = Fish(4,2,\"Salmon\")\n",
        "\n",
        "pond = [Fish1,Fish2,Fish3,Fish4,Fish5,Fish6,Fish7,Fish8,Fish9,Fish10]\n",
        "\n",
        "KMeans1 = KMeans(pond)\n",
        "KMeans1.cluster(2)"
      ],
      "execution_count": 5,
      "outputs": [
        {
          "output_type": "stream",
          "name": "stdout",
          "text": [
            "\n",
            "\n",
            "Cluster 0 10 10\n",
            "Cluster 1 10 8\n"
          ]
        }
      ]
    }
  ]
}