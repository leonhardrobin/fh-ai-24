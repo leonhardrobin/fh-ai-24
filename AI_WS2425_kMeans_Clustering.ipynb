{
  "nbformat": 4,
  "nbformat_minor": 0,
  "metadata": {
    "colab": {
      "provenance": [],
      "include_colab_link": true
    },
    "kernelspec": {
      "name": "python3",
      "display_name": "Python 3"
    },
    "language_info": {
      "name": "python"
    }
  },
  "cells": [
    {
      "cell_type": "markdown",
      "metadata": {
        "id": "view-in-github",
        "colab_type": "text"
      },
      "source": [
        "<a href=\"https://colab.research.google.com/github/leonhardrobin/fh-ai-24/blob/main/AI_WS2425_kMeans_Clustering.ipynb\" target=\"_parent\"><img src=\"https://colab.research.google.com/assets/colab-badge.svg\" alt=\"Open In Colab\"/></a>"
      ]
    },
    {
      "cell_type": "code",
      "metadata": {
        "id": "lqJ363ojGHRr",
        "colab": {
          "base_uri": "https://localhost:8080/"
        },
        "outputId": "309364e6-8dc1-4ad1-9b30-f2f156333d73"
      },
      "source": [
        "# import a couple of libraries\n",
        "import math\n",
        "from collections import Counter\n",
        "import random as rand\n",
        "print(\"import completed\")\n"
      ],
      "execution_count": 15,
      "outputs": [
        {
          "output_type": "stream",
          "name": "stdout",
          "text": [
            "import completed\n"
          ]
        }
      ]
    },
    {
      "cell_type": "markdown",
      "metadata": {
        "id": "txLkiDsIEe4U"
      },
      "source": [
        "Create a \"Fish\" class with the properties length, brightness, and a text label describing which class (i.e., Salmon/Sea Bass) it belongs to."
      ]
    },
    {
      "cell_type": "code",
      "metadata": {
        "id": "_Ox0rsimJEHD",
        "colab": {
          "base_uri": "https://localhost:8080/"
        },
        "outputId": "ef722a1e-1beb-4687-9167-9d45d0b781f9"
      },
      "source": [
        "class Fish(object):\n",
        "  def __init__(self,length,brightness,label):\n",
        "    self.length=length\n",
        "    self.brightness = brightness\n",
        "    self.label = label\n",
        "\n",
        "  def distanceTo(self,r):\n",
        "    #TODO: the function should return the Euclidian distance between the object (i.e., \"self\") and a reference object r\n",
        "    return(math.sqrt((self.length-r.length)**2 + (self.brightness-r.brightness)**2))\n",
        "\n",
        "print(\"class fish interpreted\")"
      ],
      "execution_count": 16,
      "outputs": [
        {
          "output_type": "stream",
          "name": "stdout",
          "text": [
            "class fish interpreted\n"
          ]
        }
      ]
    },
    {
      "cell_type": "code",
      "metadata": {
        "id": "_FCrsHeGAl7I"
      },
      "source": [
        "class KMeans(object):\n",
        "  def __init__(self,array):\n",
        "    self.array = array\n",
        "\n",
        "  def cluster(self,n):\n",
        "    if((n<=1) or (n>len(self.array))):\n",
        "      return \"more than 1 cluster needed\"\n",
        "\n",
        "    #TODO implement the k-Means clustering by creating a list of cluster centers (clusters[])\n",
        "    # and a list of items that belong to each cluster center (clusterItems[]),\n",
        "    # where the index corresponds between both arrays\n",
        "    clusters = []\n",
        "    clusterItems = []\n",
        "    for i in range(n):\n",
        "      clusters.append(Fish(rand.randint(1, 10), rand.randint(1, 10), \"\"))\n",
        "      clusterItems.append([])\n",
        "\n",
        "    for i in range(len(self.array)):\n",
        "      min = clusters[0].distanceTo(self.array[i])\n",
        "      index = 0;\n",
        "      for j in range(1, len(clusters)):\n",
        "        dist = clusters[j].distanceTo(self.array[i])\n",
        "        if (dist < min):\n",
        "            min = dist\n",
        "            index = j\n",
        "\n",
        "      clusterItems[index].append(self.array[i])\n",
        "\n",
        "    prevClusters = clusters.copy()\n",
        "    for i in range(len(clusters)):\n",
        "      sumLength = 0\n",
        "      sumBrightness = 0\n",
        "      for j in range(len(clusterItems)):\n",
        "        sumLength += clusterItems[i][j].length\n",
        "        sumBrightness += clusterItems[i][j].brightness\n",
        "\n",
        "      clusters[i] = Fish(sumLength / len(clusterItems[i], sumBrightness / len(clusterItems[i]), \"\"))\n",
        "\n",
        "    print(\"\\n\")\n",
        "    for i in range(n):\n",
        "      print(\"Cluster \" +str(i)+\" \"+str(clusters[i].length)+\" \"+str(clusters[i].brightness))\n",
        "      for u in range(len(clusterItems[i])):\n",
        "        print(clusterItems[i][u].label+\" \"+str(clusterItems[i][u].length)+\" \"+str(clusterItems[i][u].brightness))\n",
        "\n",
        "\n"
      ],
      "execution_count": 35,
      "outputs": []
    },
    {
      "cell_type": "markdown",
      "metadata": {
        "id": "FX2dgw0YsW6g"
      },
      "source": [
        "Some examples to test the clustering. We create a couple of fish for the pond (again) and instantiate a k-Means clustering algorithm. We then cluster based on 2 cluster centers (we know that there are 2 classes) and print out the result"
      ]
    },
    {
      "cell_type": "code",
      "metadata": {
        "colab": {
          "base_uri": "https://localhost:8080/",
          "height": 323
        },
        "id": "ZI1epbLQyBQe",
        "outputId": "431a87a6-9994-47a7-9d69-03af9d844aa7"
      },
      "source": [
        "Fish1 = Fish(10,10,\"Bass\")\n",
        "Fish2 = Fish(10,8,\"Bass\")\n",
        "Fish3 = Fish(9,8,\"Bass\")\n",
        "Fish4 = Fish(9,9,\"Bass\")\n",
        "Fish5 = Fish(8,7,\"Bass\")\n",
        "\n",
        "Fish6 = Fish(2,1,\"Salmon\")\n",
        "Fish7 = Fish(2,3,\"Salmon\")\n",
        "Fish8 = Fish(3,2,\"Salmon\")\n",
        "Fish9 = Fish(3,1,\"Salmon\")\n",
        "Fish10 = Fish(4,2,\"Salmon\")\n",
        "\n",
        "pond = [Fish1,Fish2,Fish3,Fish4,Fish5,Fish6,Fish7,Fish8,Fish9,Fish10]\n",
        "\n",
        "KMeans1 = KMeans(pond)\n",
        "KMeans1.cluster(2)"
      ],
      "execution_count": 36,
      "outputs": [
        {
          "output_type": "error",
          "ename": "TypeError",
          "evalue": "object of type 'Fish' has no len()",
          "traceback": [
            "\u001b[0;31m---------------------------------------------------------------------------\u001b[0m",
            "\u001b[0;31mTypeError\u001b[0m                                 Traceback (most recent call last)",
            "\u001b[0;32m<ipython-input-36-52eebe079bbc>\u001b[0m in \u001b[0;36m<cell line: 16>\u001b[0;34m()\u001b[0m\n\u001b[1;32m     14\u001b[0m \u001b[0;34m\u001b[0m\u001b[0m\n\u001b[1;32m     15\u001b[0m \u001b[0mKMeans1\u001b[0m \u001b[0;34m=\u001b[0m \u001b[0mKMeans\u001b[0m\u001b[0;34m(\u001b[0m\u001b[0mpond\u001b[0m\u001b[0;34m)\u001b[0m\u001b[0;34m\u001b[0m\u001b[0;34m\u001b[0m\u001b[0m\n\u001b[0;32m---> 16\u001b[0;31m \u001b[0mKMeans1\u001b[0m\u001b[0;34m.\u001b[0m\u001b[0mcluster\u001b[0m\u001b[0;34m(\u001b[0m\u001b[0;36m2\u001b[0m\u001b[0;34m)\u001b[0m\u001b[0;34m\u001b[0m\u001b[0;34m\u001b[0m\u001b[0m\n\u001b[0m",
            "\u001b[0;32m<ipython-input-35-616b6e1f8c46>\u001b[0m in \u001b[0;36mcluster\u001b[0;34m(self, n)\u001b[0m\n\u001b[1;32m     35\u001b[0m         \u001b[0msumBrightness\u001b[0m \u001b[0;34m+=\u001b[0m \u001b[0mclusterItems\u001b[0m\u001b[0;34m[\u001b[0m\u001b[0mi\u001b[0m\u001b[0;34m]\u001b[0m\u001b[0;34m[\u001b[0m\u001b[0mj\u001b[0m\u001b[0;34m]\u001b[0m\u001b[0;34m.\u001b[0m\u001b[0mbrightness\u001b[0m\u001b[0;34m\u001b[0m\u001b[0;34m\u001b[0m\u001b[0m\n\u001b[1;32m     36\u001b[0m \u001b[0;34m\u001b[0m\u001b[0m\n\u001b[0;32m---> 37\u001b[0;31m       \u001b[0mclusters\u001b[0m\u001b[0;34m[\u001b[0m\u001b[0mi\u001b[0m\u001b[0;34m]\u001b[0m \u001b[0;34m=\u001b[0m \u001b[0mFish\u001b[0m\u001b[0;34m(\u001b[0m\u001b[0msumLength\u001b[0m \u001b[0;34m/\u001b[0m \u001b[0mlen\u001b[0m\u001b[0;34m(\u001b[0m\u001b[0mclusters\u001b[0m\u001b[0;34m[\u001b[0m\u001b[0mi\u001b[0m\u001b[0;34m]\u001b[0m\u001b[0;34m,\u001b[0m \u001b[0msumBrightness\u001b[0m \u001b[0;34m/\u001b[0m \u001b[0mlen\u001b[0m\u001b[0;34m(\u001b[0m\u001b[0mclusters\u001b[0m\u001b[0;34m[\u001b[0m\u001b[0mi\u001b[0m\u001b[0;34m]\u001b[0m\u001b[0;34m)\u001b[0m\u001b[0;34m,\u001b[0m \u001b[0;34m\"\"\u001b[0m\u001b[0;34m)\u001b[0m\u001b[0;34m)\u001b[0m\u001b[0;34m\u001b[0m\u001b[0;34m\u001b[0m\u001b[0m\n\u001b[0m\u001b[1;32m     38\u001b[0m \u001b[0;34m\u001b[0m\u001b[0m\n\u001b[1;32m     39\u001b[0m     \u001b[0mprint\u001b[0m\u001b[0;34m(\u001b[0m\u001b[0;34m\"\\n\"\u001b[0m\u001b[0;34m)\u001b[0m\u001b[0;34m\u001b[0m\u001b[0;34m\u001b[0m\u001b[0m\n",
            "\u001b[0;31mTypeError\u001b[0m: object of type 'Fish' has no len()"
          ]
        }
      ]
    }
  ]
}