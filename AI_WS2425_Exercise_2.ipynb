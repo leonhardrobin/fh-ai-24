{
  "cells": [
    {
      "cell_type": "markdown",
      "metadata": {
        "id": "view-in-github",
        "colab_type": "text"
      },
      "source": [
        "<a href=\"https://colab.research.google.com/github/leonhardrobin/fh-ai-24/blob/main/AI_WS2425_Exercise_2.ipynb\" target=\"_parent\"><img src=\"https://colab.research.google.com/assets/colab-badge.svg\" alt=\"Open In Colab\"/></a>"
      ]
    },
    {
      "cell_type": "markdown",
      "metadata": {
        "id": "bCDNKWMTnmDy"
      },
      "source": [
        "In this exercise, we will look at classifying the CIFAR10-dataset (i.e., the same images as discussed in the lecture). You can find the individual tasks in the code examples below.\n",
        "\n",
        "You should solve the following tasks:\n",
        "1) randomly show 5 images from the dataset\n",
        "2) randomly show 5 images based on the matrices generated from the dataset\n",
        "3) calculate and apply the average loss and accuracy metrics\n",
        "4) Hyperparameter evaluation: run the model with 3x3 learning rates (0.01, 0.001, 0.0001) and epochs (20, 50, 100) and note the results (i.e., final accuracies of all sets). Make a plot of the best performing hyperparameter configuration (i.e., accuracy (y) over epochs (x))\n",
        "5) Interpret the results of your models, i.e., why are they performing good/bad?\n",
        "\n",
        "1) Import the necessary libraries"
      ]
    },
    {
      "cell_type": "code",
      "execution_count": null,
      "metadata": {
        "id": "OjzC2anLnfdl"
      },
      "outputs": [],
      "source": [
        "import torch\n",
        "from pathlib import Path\n",
        "import pandas as pd\n",
        "import io\n",
        "import matplotlib.pyplot as plt\n",
        "import numpy as np\n",
        "import torch\n",
        "import torchvision\n",
        "import torchvision.transforms as transforms\n",
        "from torch.utils.data.sampler import SubsetRandomSampler\n",
        "from torch.utils.data.dataloader import DataLoader\n",
        "import torch.nn as nn\n",
        "import torch.nn.functional as F\n",
        "\n"
      ]
    },
    {
      "cell_type": "markdown",
      "metadata": {
        "id": "9QPpQUTCnu9I"
      },
      "source": [
        "2) Load the CIFAR10 dataset, which is part of pytorch"
      ]
    },
    {
      "cell_type": "code",
      "execution_count": null,
      "metadata": {
        "id": "dODgI8OpnzLz",
        "colab": {
          "base_uri": "https://localhost:8080/"
        },
        "outputId": "2b784b4f-29fa-4d73-998a-c9b689caba83"
      },
      "outputs": [
        {
          "output_type": "stream",
          "name": "stdout",
          "text": [
            "Downloading https://www.cs.toronto.edu/~kriz/cifar-10-python.tar.gz to ./data/cifar-10-python.tar.gz\n"
          ]
        },
        {
          "output_type": "stream",
          "name": "stderr",
          "text": [
            "100%|██████████| 170498071/170498071 [00:03<00:00, 43221670.89it/s]\n"
          ]
        },
        {
          "output_type": "stream",
          "name": "stdout",
          "text": [
            "Extracting ./data/cifar-10-python.tar.gz to ./data\n",
            "Files already downloaded and verified\n"
          ]
        }
      ],
      "source": [
        "trainset = torchvision.datasets.CIFAR10(root='./data', train=True,\n",
        "                                        download=True)\n",
        "testset = torchvision.datasets.CIFAR10(root='./data', train=False,\n",
        "                                        download=True)\n",
        "# the labels will be put in a seperate vector as the original is just numbers, but we want text labels\n",
        "classes = ('plane', 'car', 'bird', 'cat',\n",
        "           'deer', 'dog', 'frog', 'horse', 'ship', 'truck')"
      ]
    },
    {
      "cell_type": "markdown",
      "metadata": {
        "id": "Ab2CuqOzoJOy"
      },
      "source": [
        "Now, lets look into some of the images..."
      ]
    },
    {
      "cell_type": "code",
      "execution_count": null,
      "metadata": {
        "id": "EO8Gv6V7oL9q",
        "colab": {
          "base_uri": "https://localhost:8080/",
          "height": 465
        },
        "outputId": "94acb05f-f182-49c6-d233-e2476d37c2e6"
      },
      "outputs": [
        {
          "output_type": "stream",
          "name": "stdout",
          "text": [
            "this is an image of a deer\n"
          ]
        },
        {
          "output_type": "execute_result",
          "data": {
            "text/plain": [
              "<matplotlib.image.AxesImage at 0x7eebc5925e70>"
            ]
          },
          "metadata": {},
          "execution_count": 3
        },
        {
          "output_type": "display_data",
          "data": {
            "text/plain": [
              "<Figure size 640x480 with 1 Axes>"
            ],
            "image/png": "[encoded data removed]"
          },
          "metadata": {}
        }
      ],
      "source": [
        "example = 3465\n",
        "image, label = trainset[example] #since each element of the trainset list is itself a tuple with the image details, and then the label\n",
        "print(\"this is an image of a \" + classes[(trainset[example])[1]]) # first index into tuple in trainset, then the 2nd value (label), and then the classes\n",
        "plt.imshow(image)\n",
        "\n",
        "# TASK 1: randomly show 5 images from the trainingset, i.e., the random number generator should draw a value between 0 and the size of the set"
      ]
    },
    {
      "cell_type": "markdown",
      "metadata": {
        "id": "qGhCotvYojqD"
      },
      "source": [
        "We utilize the pytorch transform module to create matrices of color values from the images..."
      ]
    },
    {
      "cell_type": "code",
      "execution_count": null,
      "metadata": {
        "id": "5PtyhAGipnzx",
        "colab": {
          "base_uri": "https://localhost:8080/"
        },
        "outputId": "0d154eca-6772-4ee2-d1ae-e0a8c31779db"
      },
      "outputs": [
        {
          "output_type": "stream",
          "name": "stdout",
          "text": [
            "Files already downloaded and verified\n"
          ]
        }
      ],
      "source": [
        "datasetT = torchvision.datasets.CIFAR10(root='./data', train=True,\n",
        "                                        download=True, transform=transforms.ToTensor())"
      ]
    },
    {
      "cell_type": "markdown",
      "metadata": {
        "id": "sYDILyP_pw2D"
      },
      "source": [
        "Now we have matrices with the dimensions 3x32x32 (i.e., 32*32 pixels and 3 RGB colors). We can assess one of the training examples with the following code"
      ]
    },
    {
      "cell_type": "code",
      "execution_count": null,
      "metadata": {
        "id": "o8s3pV2Bpv_L",
        "colab": {
          "base_uri": "https://localhost:8080/"
        },
        "outputId": "f27af0b3-b32f-4145-9ca0-22146f6abe9a"
      },
      "outputs": [
        {
          "output_type": "stream",
          "name": "stdout",
          "text": [
            "size of image matrix: torch.Size([3, 32, 32])\n",
            "this is an image of a dog\n"
          ]
        }
      ],
      "source": [
        "example = 128\n",
        "imgTensor, label = datasetT[example]\n",
        "print('size of image matrix: ' + str(imgTensor.shape))\n",
        "print(\"this is an image of a \" + classes[(trainset[example])[1]])\n",
        "\n",
        "#TASK 2: similar as above, use matplotlib to visualze 5 images randomly drawn from the dataset (but use the matrices now!)\n",
        "#you should create a numpy array from the tensor, flip dimensions/axis accordingly, and plot"
      ]
    },
    {
      "cell_type": "markdown",
      "metadata": {
        "id": "djSr2UW5sje8"
      },
      "source": [
        "next, we build a training set (60%), a cross-validation set (20%), and a test set fo the final validation (20%)"
      ]
    },
    {
      "cell_type": "code",
      "execution_count": null,
      "metadata": {
        "id": "PL1Zs5iustP0",
        "colab": {
          "base_uri": "https://localhost:8080/"
        },
        "outputId": "72a2b514-0f6e-47c0-f026-bbc37b043c77"
      },
      "outputs": [
        {
          "output_type": "stream",
          "name": "stdout",
          "text": [
            "amount of training examples: 40000\n",
            "amount of cross validation examples: 10000\n"
          ]
        }
      ],
      "source": [
        "#length of training examples.\n",
        "m = 50000\n",
        "\n",
        "#percentage of m dedicated to CV.\n",
        "pCV = 0.2\n",
        "\n",
        "# give the amount of examples dedicated to CV.\n",
        "mCV = int(m*pCV)\n",
        "print(\"amount of training examples: \" + str(m - mCV))\n",
        "print(\"amount of cross validation examples: \" + str(mCV))"
      ]
    },
    {
      "cell_type": "markdown",
      "metadata": {
        "id": "6LpUFw4Ksw8k"
      },
      "source": [
        "Next, we shuffle the data and create the sets..."
      ]
    },
    {
      "cell_type": "code",
      "execution_count": null,
      "metadata": {
        "id": "F_xAe7JXs1jk"
      },
      "outputs": [],
      "source": [
        "def ShuffleAndSPlit(countExamples, percentageCV):\n",
        "  \"\"\" randomly shuffle a training set's indices, then split the indices into training and cross validation sets.\n",
        "   Pass in 'm', length of training set, and 'pCV', the percentage of the training set you would like\n",
        "   to dedicate to cross validation.\"\"\"\n",
        "\n",
        "  # determine size of CV set.\n",
        "  mCV = int(countExamples*percentageCV)\n",
        "\n",
        "  #create random permutation of 0 to m-1 - randomly shuffle all values from 0 to m.\n",
        "  indices = np.random.permutation(countExamples)\n",
        "\n",
        "  #pick first mCV indices for training, and then validation.\n",
        "  return indices[mCV:], indices[:mCV]\n",
        "\n",
        "trainIndices, valIndices = ShuffleAndSPlit(m, pCV)"
      ]
    },
    {
      "cell_type": "markdown",
      "metadata": {
        "id": "ajUKFUExs-BV"
      },
      "source": [
        "Now, we load the indices into groups for Stochastic Gradient Descent"
      ]
    },
    {
      "cell_type": "code",
      "execution_count": null,
      "metadata": {
        "id": "9yaYuPaStJ7k"
      },
      "outputs": [],
      "source": [
        "#We define a batch size and use the SubsetRandomSampler and the DataLoader as given by pytorch: https://pytorch.org/docs/stable/data.html\n",
        "\n",
        "batchSize = 100\n",
        "#First, we create a sampler using our training set\n",
        "trainSampler = SubsetRandomSampler(trainIndices)\n",
        "#The dataloader helps us to draw batchSize randomly sampled examples from our training datasetT\n",
        "trainLoader = DataLoader(datasetT, batchSize, sampler=trainSampler)\n",
        "\n",
        "#The same happens for the validation set...\n",
        "valSampler = SubsetRandomSampler(valIndices)\n",
        "valLoader = DataLoader(datasetT, batchSize, sampler=valSampler)"
      ]
    },
    {
      "cell_type": "markdown",
      "metadata": {
        "id": "f36xSEwqtWhU"
      },
      "source": [
        "Now we prepare our model - since the data should be a vector, each 3x32x32 image tensor needs to be flattened to a vector of length 3072"
      ]
    },
    {
      "cell_type": "code",
      "execution_count": null,
      "metadata": {
        "id": "oOsp09cutgqU",
        "colab": {
          "base_uri": "https://localhost:8080/"
        },
        "outputId": "62f5a936-1257-4649-eb1b-b6472b15907e"
      },
      "outputs": [
        {
          "output_type": "stream",
          "name": "stdout",
          "text": [
            "dimensions of weight matrix W: torch.Size([10, 3072])\n",
            "Parameter containing:\n",
            "tensor([[-0.0113, -0.0010, -0.0023,  ...,  0.0165,  0.0029, -0.0174],\n",
            "        [ 0.0034, -0.0165,  0.0004,  ..., -0.0009, -0.0082,  0.0119],\n",
            "        [ 0.0015,  0.0138, -0.0130,  ..., -0.0077, -0.0175, -0.0061],\n",
            "        ...,\n",
            "        [ 0.0060, -0.0160, -0.0003,  ...,  0.0008,  0.0028, -0.0037],\n",
            "        [-0.0066, -0.0107,  0.0038,  ...,  0.0032,  0.0004,  0.0167],\n",
            "        [-0.0117, -0.0125,  0.0084,  ...,  0.0046, -0.0105,  0.0125]],\n",
            "       requires_grad=True)\n",
            "dimensions of bias matrix b: torch.Size([10])\n",
            "Parameter containing:\n",
            "tensor([ 0.0001,  0.0176,  0.0044, -0.0174,  0.0017, -0.0150, -0.0165,  0.0079,\n",
            "        -0.0084, -0.0062], requires_grad=True)\n"
          ]
        }
      ],
      "source": [
        "# this will define the rows of the matrix\n",
        "inputSize = 3*32*32\n",
        "\n",
        "# this will define the columns of the matrix\n",
        "numClasses = 10\n",
        "\n",
        "# create our linear regression model (nn.Linear creates bias vector)\n",
        "model = nn.Linear(inputSize, numClasses)\n",
        "\n",
        "print('dimensions of weight matrix W: ' + str(model.weight.shape))\n",
        "print(model.weight)\n",
        "\n",
        "print('dimensions of bias matrix b: ' + str(model.bias.shape))\n",
        "print(model.bias)"
      ]
    },
    {
      "cell_type": "markdown",
      "metadata": {
        "id": "-ihnCFjZuNd8"
      },
      "source": [
        "Now, we take images from one batch of the dataset and put it into the model."
      ]
    },
    {
      "cell_type": "code",
      "execution_count": null,
      "metadata": {
        "id": "zzmKYfeyuXT8"
      },
      "outputs": [],
      "source": [
        "#this class reshapes the matrices to be compatible, i.e., batchsize times 3072 (32x32x3)\n",
        "#the CIFAR10 class is a subclass of nn.Module, inheriting all its functions\n",
        "class CIFAR10(nn.Module):\n",
        "    def __init__(self):\n",
        "        super().__init__()\n",
        "        self.linear = nn.Linear(inputSize, numClasses)\n",
        "\n",
        "    def forward(self, xb):\n",
        "        xb = xb.reshape(-1, 3072)\n",
        "        out = self.linear(xb)\n",
        "        return out\n",
        "\n",
        "model = CIFAR10()"
      ]
    },
    {
      "cell_type": "code",
      "execution_count": null,
      "metadata": {
        "id": "WorJeEF0uzJk",
        "colab": {
          "base_uri": "https://localhost:8080/"
        },
        "outputId": "b75ee4c6-2d35-4db4-d6d5-ede9c7bd8b9f"
      },
      "outputs": [
        {
          "output_type": "stream",
          "name": "stdout",
          "text": [
            "torch.Size([10, 3072])\n",
            "torch.Size([10])\n",
            "outputs.shape : torch.Size([100, 10])\n",
            "sample outputs :\n",
            " tensor([[ 0.3946, -0.7205, -0.1211, -0.5564, -0.1897,  0.0311, -0.0996, -0.6287,\n",
            "          0.5235,  0.0565],\n",
            "        [ 0.4079, -0.3870, -0.4696, -0.1545,  0.2441,  0.0638,  0.1505, -0.5208,\n",
            "          0.4919, -0.0318]], grad_fn=<SliceBackward0>)\n"
          ]
        }
      ],
      "source": [
        "print(model.linear.weight.shape)\n",
        "print(model.linear.bias.shape)\n",
        "\n",
        "for images, labels in trainLoader:\n",
        "  outputs = model(images)\n",
        "  break\n",
        "\n",
        "print('outputs.shape :', outputs.shape)\n",
        "print('sample outputs :\\n', outputs[:2]) # print 2 out of the 100 rows of the total output vector"
      ]
    },
    {
      "cell_type": "markdown",
      "metadata": {
        "id": "O8RHpu_7vBfb"
      },
      "source": [
        "Stochastic Gradient Descent - Cross Entropy Loss\n",
        "Pytorch will apply softmax automatically"
      ]
    },
    {
      "cell_type": "code",
      "execution_count": null,
      "metadata": {
        "id": "o8ha_NoJu8ak",
        "colab": {
          "base_uri": "https://localhost:8080/"
        },
        "outputId": "60cd7278-d0f3-4d58-f0a8-fe4e6d16de87"
      },
      "outputs": [
        {
          "output_type": "stream",
          "name": "stdout",
          "text": [
            "tensor(2.3414, grad_fn=<NllLossBackward0>)\n"
          ]
        }
      ],
      "source": [
        "lossFn = F.cross_entropy\n",
        "\n",
        "loss = lossFn(outputs, labels)\n",
        "print(loss)"
      ]
    },
    {
      "cell_type": "markdown",
      "metadata": {
        "id": "-9QRazZxvYTU"
      },
      "source": [
        "We train the model using the:\n",
        "\n",
        "Data loaders\n",
        "Model\n",
        "Loss function\n",
        "Optimizer\n",
        "\n",
        "This model will use the training set (xb, yb) to train the parameters, and will evaluate the cost function again for the cross validation set.\n",
        "\n",
        "Let's define a function lossBatch which calculates the loss for some given batch, and performs a gradient update step for ALL the parameters based on that batch if an optimizer is provided. Also, it computes a metric (e.g accuracy) optionally."
      ]
    },
    {
      "cell_type": "code",
      "execution_count": null,
      "metadata": {
        "id": "IRMsOmgYvUNc"
      },
      "outputs": [],
      "source": [
        "learningRate = 0.01\n",
        "optimizer = torch.optim.SGD(model.parameters(), lr=learningRate)\n",
        "\n",
        "# recall that items is a list batchSize long of 3x32x32 images. labels is the corresponding labels vector for those images.\n",
        "\n",
        "def lossBatch(model, lossFn, items, labels, opt=None, metric=None):\n",
        "  # calculate the loss of the items given the original labels\n",
        "  preds = model(items)\n",
        "  loss = lossFn(preds, labels)\n",
        "\n",
        "  #Here, the optimization step is performed -\n",
        "  if opt is not None:\n",
        "    # compute gradients: https://pytorch.org/docs/stable/generated/torch.Tensor.backward.html\n",
        "    loss.backward()\n",
        "    # update parameters: https://pytorch.org/docs/stable/generated/torch.optim.Optimizer.step.html\n",
        "    opt.step()\n",
        "    # reset gradients to 0\n",
        "    opt.zero_grad()\n",
        "\n",
        "  metricResult = None\n",
        "  if metric is not None:\n",
        "    metricResult = metric(preds, labels)\n",
        "\n",
        "  return loss.item(), len(items),  metricResult"
      ]
    },
    {
      "cell_type": "markdown",
      "metadata": {
        "id": "DQYphbRUvhp8"
      },
      "source": [
        "The above code defines a function, when given the\n",
        "\n",
        "model (linear.nn), the loss function (cross entropy)\n",
        "items (the images matrices for the given batch)\n",
        "labels (the corresponding labels for that batch)\n",
        "and optionally, opt (the optimization algorithm)\n",
        "metric. It returns the loss for the training set for that batch (loss.item())\n",
        "the length of the batch (items)\n",
        "the result of the metric, if given (metricResult)\n",
        "\n",
        "Next, let's define a function that computes and evaluates the total cost on the validation set."
      ]
    },
    {
      "cell_type": "code",
      "execution_count": null,
      "metadata": {
        "id": "Qm5U5XJ2viT1"
      },
      "outputs": [],
      "source": [
        "def evaluate(model, lossFn, validDL, metric=None):\n",
        "\n",
        "  # pass each batch of the validation set through the model to form a multidimensional list (holding loss, length and metric for each batch)\n",
        "  results = [lossBatch(model, lossFn, items, labels, metric=metric,) for items,labels in validDL]\n",
        "\n",
        "  # separate losses, counts and metrics\n",
        "  losses, nums, metrics = zip(*results)\n",
        "\n",
        "  # total size of the dataset (we keep track of lengths of batches since dataset might not be perfectly divisible by batch size)\n",
        "  total = np.sum(nums)\n",
        "\n",
        "  # find average total loss over all batches in validation (remember these are all vectors doing element wise operations.)\n",
        "  # Now, we have a list of \"losses\", their vector lenghts \"nums\" and the number of total items over all batches\n",
        "\n",
        "  # TASK3: calculate the average loss over the validation set, as well as the average metrics (see below)\n",
        "  avgLoss = 0 # TODO\n",
        "\n",
        "  # if there is a metric passed, compute the average metric\n",
        "  if metric is not None:\n",
        "    # avg of metric accross batches\n",
        "    avgMetric = 0 #TODO\n",
        "\n",
        "  return avgLoss, total, avgMetric"
      ]
    },
    {
      "cell_type": "markdown",
      "metadata": {
        "id": "id5VoMQIvtLF"
      },
      "source": [
        "We also need to redefine our metric, accuracy, to operate on a batch of outputs directly as opposed to just getting predictions and labels."
      ]
    },
    {
      "cell_type": "code",
      "execution_count": null,
      "metadata": {
        "id": "OWd98ERovtqc"
      },
      "outputs": [],
      "source": [
        "def accuracy(outputs, labels):\n",
        "  _, preds = torch.max(outputs, dim=1)\n",
        "  return torch.sum(preds == labels).item() / len(preds)"
      ]
    },
    {
      "cell_type": "markdown",
      "metadata": {
        "id": "VhjgolEDvx0U"
      },
      "source": [
        "Accuracy takes in the outputs (batchSize x 10, one output for each class) and labels (1 x batchSize). It then gets the index of the max values for each row of outputs, which is the predicted value for each training example. Then, it sums the boolean matrix created by preds == labels, and divides it by the length of the batch, to get the accuracy of the predictions."
      ]
    },
    {
      "cell_type": "code",
      "execution_count": null,
      "metadata": {
        "id": "rBRiQnHovybF",
        "colab": {
          "base_uri": "https://localhost:8080/"
        },
        "outputId": "192da583-51f6-4a6e-eeb5-e86476f9a102"
      },
      "outputs": [
        {
          "output_type": "stream",
          "name": "stdout",
          "text": [
            "training set loss:  0\n",
            "validation set loss:  0\n"
          ]
        }
      ],
      "source": [
        "# test the evaluate function on both the training and the validation set\n",
        "Etrain = evaluate(model, lossFn, trainLoader, metric=accuracy)\n",
        "Eval = evaluate(model, lossFn, valLoader, metric=accuracy)\n",
        "print(\"training set loss: \", Etrain[0])\n",
        "print(\"validation set loss: \", Eval[0])"
      ]
    },
    {
      "cell_type": "markdown",
      "metadata": {
        "id": "_GEcRGZs2-Gm"
      },
      "source": [
        "Finally, the fit function iterates through the number of desired update steps and improves the model"
      ]
    },
    {
      "cell_type": "code",
      "execution_count": null,
      "metadata": {
        "id": "Hv52g5unwB6c"
      },
      "outputs": [],
      "source": [
        "def fit(epochs, model, lossFn, opt, trainDL, valDL, metric=None):\n",
        "  #valList will hold our accuracies after each epoch (i.e., update step), where we should see an improvement.\n",
        "  #To start with some \"bad\" accuracy, we initialize it with 10%\n",
        "  valList = [0.10]\n",
        "\n",
        "  for epoch in range(epochs):\n",
        "    # training - perform one step gradient descent on each batch, then moves on\n",
        "    # therefore, we use the \"lossBatch\" function defined above\n",
        "    for items, labels in trainDL:\n",
        "      loss,_,lossMetric = lossBatch(model, lossFn, items, labels, opt)\n",
        "\n",
        "    # evaluation on cross validation dataset - after updating over all batches, technically one epoch\n",
        "    # evaluates over all validation batches and then calculates average val loss, as well as the metric (accuracy)\n",
        "    valResult = evaluate(model, lossFn, valDL, metric)\n",
        "    valLoss, total, valMetric = valResult\n",
        "    valList.append(valMetric)\n",
        "    # print progress\n",
        "    if metric is None:\n",
        "      print('Epoch [{}/{}], Loss: {:.4f}'.format(epoch + 1, epochs, valLoss))\n",
        "    else:\n",
        "      print('Epoch [{}/{}], Loss: {:.4f}, {}: {:.4f}'.format(epoch + 1, epochs, valLoss, metric.__name__, valMetric))\n",
        "\n",
        "  return valList"
      ]
    },
    {
      "cell_type": "markdown",
      "metadata": {
        "id": "qsUCwvj9wF_d"
      },
      "source": [
        "now, we can finally train the model using Stochastic Gradient Descent"
      ]
    },
    {
      "cell_type": "code",
      "execution_count": null,
      "metadata": {
        "id": "5aEZNXY9wHgk",
        "colab": {
          "base_uri": "https://localhost:8080/"
        },
        "outputId": "f7480639-1a29-4625-f5ea-aedf04072270"
      },
      "outputs": [
        {
          "output_type": "stream",
          "name": "stdout",
          "text": [
            "Epoch [1/5], Loss: 0.0000, accuracy: 0.0000\n",
            "Epoch [2/5], Loss: 0.0000, accuracy: 0.0000\n",
            "Epoch [3/5], Loss: 0.0000, accuracy: 0.0000\n",
            "Epoch [4/5], Loss: 0.0000, accuracy: 0.0000\n",
            "Epoch [5/5], Loss: 0.0000, accuracy: 0.0000\n"
          ]
        }
      ],
      "source": [
        "#TASK4: Hyperparameter evaluation: run the model with 3x3 learning rates (0.01, 0.001, 0.0001)\n",
        "# and epochs (20, 50, 100) and note the results (i.e., final accuracies of all sets).\n",
        "# Make a plot of the best performing hyperparameter configuration (i.e., accuracy (y) over epochs (x))\n",
        "\n",
        "learningRate = 0.01\n",
        "epochs = 5\n",
        "model = CIFAR10()\n",
        "# we use SDG https://pytorch.org/docs/stable/generated/torch.optim.SGD.html\n",
        "optimizer = torch.optim.SGD(model.parameters(), lr=learningRate)\n",
        "\n",
        "# we call the fit function, with the desired number of epochs, the model, the loss function,\n",
        "# the just before defined optimizer, the datasets, and the accuracy metric\n",
        "trainList = fit(epochs, model, lossFn, optimizer, trainLoader, valLoader, metric=accuracy)"
      ]
    },
    {
      "cell_type": "markdown",
      "metadata": {
        "id": "Djxh2ADiwY_t"
      },
      "source": [
        "now, we look at the accuracies of the sets"
      ]
    },
    {
      "cell_type": "code",
      "execution_count": null,
      "metadata": {
        "colab": {
          "base_uri": "https://localhost:8080/"
        },
        "id": "-wy1cncRwcat",
        "outputId": "132fddb6-3dbb-43f0-b893-40421e53c861"
      },
      "outputs": [
        {
          "output_type": "stream",
          "name": "stdout",
          "text": [
            "Files already downloaded and verified\n"
          ]
        }
      ],
      "source": [
        "test = torchvision.datasets.CIFAR10(root='./data', train=False, download=True, transform=torchvision.transforms.ToTensor())\n"
      ]
    },
    {
      "cell_type": "code",
      "execution_count": null,
      "metadata": {
        "id": "mA_P85KWwfGl"
      },
      "outputs": [],
      "source": [
        "testLoader = DataLoader(test, batchSize)"
      ]
    },
    {
      "cell_type": "code",
      "execution_count": null,
      "metadata": {
        "id": "JnVyyLKJwhYc",
        "colab": {
          "base_uri": "https://localhost:8080/"
        },
        "outputId": "1afae4c2-f1fc-41bf-9690-766a6a04f886"
      },
      "outputs": [
        {
          "output_type": "stream",
          "name": "stdout",
          "text": [
            "test set accuracy: \n",
            " 0\n",
            "cross validation set accuracy: \n",
            " 0\n",
            "training set accuracy: \n",
            " 0\n"
          ]
        }
      ],
      "source": [
        "#TASK5 Interpret the results of your models, i.e., why are they performing good/bad?\n",
        "\n",
        "avgLoss, total, avgMetric = evaluate(model, F.cross_entropy, testLoader, metric=accuracy)\n",
        "print(\"test set accuracy: \\n\", avgMetric)\n",
        "avgLoss, total, avgMetric = evaluate(model, F.cross_entropy, valLoader, metric=accuracy)\n",
        "print(\"cross validation set accuracy: \\n\",avgMetric)\n",
        "avgLoss, total, avgMetric = evaluate(model, F.cross_entropy, trainLoader, metric=accuracy)\n",
        "print(\"training set accuracy: \\n\",avgMetric)"
      ]
    }
  ],
  "metadata": {
    "colab": {
      "provenance": [],
      "include_colab_link": true
    },
    "kernelspec": {
      "display_name": "Python 3",
      "name": "python3"
    },
    "language_info": {
      "name": "python"
    }
  },
  "nbformat": 4,
  "nbformat_minor": 0
}