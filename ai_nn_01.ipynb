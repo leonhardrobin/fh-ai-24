{
  "cells": [
    {
      "cell_type": "markdown",
      "metadata": {
        "id": "view-in-github",
        "colab_type": "text"
      },
      "source": [
        "<a href=\"https://colab.research.google.com/github/leonhardrobin/fh-ai-24/blob/main/ai_nn_01.ipynb\" target=\"_parent\"><img src=\"https://colab.research.google.com/assets/colab-badge.svg\" alt=\"Open In Colab\"/></a>"
      ]
    },
    {
      "cell_type": "markdown",
      "metadata": {
        "id": "NICHdh-YmFYj"
      },
      "source": [
        "# Excercise NN/01 - Neural Networks\n",
        "\n",
        "Contact: Dr. David C. Schedl <br/>\n",
        "E-Mail: david.schedl@fh-hagenberg.at <br/>\n",
        "Note: this tutorial is geared towards students **experienced in programming** and aims to introduce you to **Backpropagation and NNs**.\n",
        "\n",
        "*Acknowledgements:*\n",
        "This notebook is strongly inspired by the NN-zero-to-here lecture series of Andrej Karpathy, available [here](https://github.com/karpathy/nn-zero-to-hero).\n",
        "\n",
        "## Setup\n",
        "As first step, we need to import the necessary libraries."
      ]
    },
    {
      "cell_type": "code",
      "execution_count": 1,
      "metadata": {
        "id": "kPwITHZEmFYl"
      },
      "outputs": [],
      "source": [
        "# Setup and import of libraries\n",
        "import math\n",
        "import random\n",
        "import numpy as np\n",
        "import matplotlib.pyplot as plt"
      ]
    },
    {
      "cell_type": "markdown",
      "metadata": {
        "id": "UD09QE0rmFYl"
      },
      "source": [
        "# Computing Gradients\n",
        "Let's start simple with the quadratic function $f(x) = 3x^2 - 4x + 5$."
      ]
    },
    {
      "cell_type": "code",
      "execution_count": 2,
      "metadata": {
        "id": "HFiY-IStmFYm"
      },
      "outputs": [],
      "source": [
        "def f(x):\n",
        "  return 3*x**2 - 4*x + 5"
      ]
    },
    {
      "cell_type": "markdown",
      "metadata": {
        "id": "nkV6fih5mFYm"
      },
      "source": [
        "Let's plot it in the range $[-5, 5]$."
      ]
    },
    {
      "cell_type": "code",
      "execution_count": 3,
      "metadata": {
        "colab": {
          "base_uri": "https://localhost:8080/",
          "height": 450
        },
        "id": "hPATW0STmFYm",
        "outputId": "24d1d3ce-237e-45ac-a447-63b38cfd9b32"
      },
      "outputs": [
        {
          "output_type": "display_data",
          "data": {
            "text/plain": [
              "<Figure size 640x480 with 1 Axes>"
            ],
            "image/png": "[encoded data removed]"
          },
          "metadata": {}
        }
      ],
      "source": [
        "xs = np.arange(-5, 5, 0.25)\n",
        "ys = f(xs)\n",
        "plt.plot(xs, ys, label='f(x)')\n",
        "plt.legend(); plt.show()"
      ]
    },
    {
      "cell_type": "markdown",
      "metadata": {
        "id": "-c--WzsjmFYn"
      },
      "source": [
        "The derivative of this function is $\\frac{df(x)}{dx} = 6x - 4$.\n",
        "\n",
        "The minimum ($0 = \\frac{df(x)}{dx}$) is at $x = \\frac{4}{6} = \\frac{2}{3}$.\n",
        "\n",
        "Let's numerically derive the function and let's look at some values."
      ]
    },
    {
      "cell_type": "code",
      "execution_count": 4,
      "metadata": {
        "colab": {
          "base_uri": "https://localhost:8080/"
        },
        "id": "IWbF7Q6PmFYn",
        "outputId": "044a6d60-4119-455b-a33d-20de4cf71aa3"
      },
      "outputs": [
        {
          "output_type": "execute_result",
          "data": {
            "text/plain": [
              "2.999378523327323e-06"
            ]
          },
          "metadata": {},
          "execution_count": 4
        }
      ],
      "source": [
        "h = 0.000001\n",
        "x = 2/3 # test with -4, 0, 2/3 and 4\n",
        "(f(x + h) - f(x))/h"
      ]
    },
    {
      "cell_type": "markdown",
      "metadata": {
        "id": "klU4XtCOmFYn"
      },
      "source": [
        "🤔 Can you also derive $df(x)/df$?"
      ]
    },
    {
      "cell_type": "markdown",
      "metadata": {
        "id": "ALQtsCzGmFYr"
      },
      "source": [
        "## Simple Gradient Descent\n",
        "\n",
        "With the gradient we can now implement a simple gradient descent algorithm, which iteratively updates the value of $x$ in the direction of the negative gradient.\n",
        "The parameters are the learning rate (often denoted as $\\alpha$) and the number of iterations $N$.\n",
        "\n",
        "🤔 What happens if you change the learning rate or the number of iterations?"
      ]
    },
    {
      "cell_type": "code",
      "execution_count": 5,
      "metadata": {
        "colab": {
          "base_uri": "https://localhost:8080/",
          "height": 468
        },
        "id": "07vdLK20mFYr",
        "outputId": "2042da5c-6fdd-453b-ceaf-f1f8275359a8"
      },
      "outputs": [
        {
          "output_type": "stream",
          "name": "stdout",
          "text": [
            "x' reached: 0.6661768312361573 after 10 iterations and should be 2/3!\n"
          ]
        },
        {
          "output_type": "display_data",
          "data": {
            "text/plain": [
              "<Figure size 640x480 with 1 Axes>"
            ],
            "image/png": "[encoded data removed]"
          },
          "metadata": {}
        }
      ],
      "source": [
        "# simple gradient descent\n",
        "\n",
        "x = -4\n",
        "_xs = [x]\n",
        "learning_rate = 0.1\n",
        "N = 10 # number of iterations\n",
        "for i in range(N):\n",
        "    df = (f(x + h) - f(x))/h\n",
        "    x = x - learning_rate * df\n",
        "    _xs.append(x)\n",
        "\n",
        "print(f\"x' reached: {x} after {N} iterations and should be 2/3!\")\n",
        "plt.plot(xs, ys, label='f(x)') # plot the function\n",
        "plt.plot(_xs, f(np.array(_xs)), 'r.', label='x\\'') # plot the path our gradient descent took\n",
        "plt.legend(); plt.show()"
      ]
    },
    {
      "cell_type": "markdown",
      "metadata": {
        "id": "cH6z4FW8mFYr"
      },
      "source": [
        "## More Complex Functions\n",
        "An example with a more complex function and multiple parameters:\n",
        "$f(x, y, z) = (x + y) * z$. <br>\n",
        "This example with the exact same parameters is used on the slides:\n",
        "$ x = -2, y = 5, z = -4$."
      ]
    },
    {
      "cell_type": "code",
      "execution_count": 6,
      "metadata": {
        "colab": {
          "base_uri": "https://localhost:8080/"
        },
        "id": "CReQ8EcOmFYr",
        "outputId": "31f7ba3b-656b-4496-b380-b2ab971ec8d0"
      },
      "outputs": [
        {
          "output_type": "stream",
          "name": "stdout",
          "text": [
            "-12.0\n"
          ]
        }
      ],
      "source": [
        "# let's get more complex\n",
        "x = -2.0\n",
        "y = 5.0\n",
        "z = -4.0\n",
        "def f(x,y,z):\n",
        "    return (x+y)*z\n",
        "print(f(x,y,z))"
      ]
    },
    {
      "cell_type": "markdown",
      "metadata": {
        "id": "K8LfSZP1mFYs"
      },
      "source": [
        "The function has three parameters ($x,y,z$) and therefore multiple gradients are computed: $\\frac{df(x,y,z)}{dx}, \\frac{df(x,y,z)}{dy}, \\frac{df(x,y,z)}{dz}$."
      ]
    },
    {
      "cell_type": "code",
      "execution_count": 7,
      "metadata": {
        "colab": {
          "base_uri": "https://localhost:8080/"
        },
        "id": "nhiGnIElmFYs",
        "outputId": "fdc0861c-d5d0-4721-d0a4-dba8d9296c05"
      },
      "outputs": [
        {
          "output_type": "stream",
          "name": "stdout",
          "text": [
            "f1 -12.0\n",
            "f2 -11.9999\n",
            "slope 0.9999999999976694\n"
          ]
        }
      ],
      "source": [
        "h = 0.0001\n",
        "\n",
        "# inputs\n",
        "x = -2.0\n",
        "y = 5.0\n",
        "z = -4.0\n",
        "\n",
        "f1 = f(x,y,z)\n",
        "f2 = f(x,y,z)+h # slope -> ~  1\n",
        "# f2 = f(x+h,y,z) # slope -> ~ -4\n",
        "# f2 = f(x,y+h,z) # slope -> ~ -4\n",
        "# f2 = f(x,y,z+h) # slope -> ~  3\n",
        "\n",
        "print('f1', f1)\n",
        "print('f2', f2)\n",
        "print('slope', (f2 - f1)/h)\n"
      ]
    },
    {
      "cell_type": "markdown",
      "metadata": {
        "id": "HqEFIYrOmFYs"
      },
      "source": [
        "# Task 1 📝: Derivative on sheet and paper\n",
        "\n",
        "Hand in a sheet/picture showing the manual derivative of the equation above: $f(x, y, z) = (x + y) * z$.\n",
        "\n",
        "What are the analytical gradients of $f(x,y,z)$ with respect to $x, y, z$ ($\\frac{df(x,y,z)}{dx}, \\frac{df(x,y,z)}{dy}, \\frac{df(x,y,z)}{dz}$)?\n",
        "\n",
        "Verify your results by comparing it to the numerical gradients (above)."
      ]
    },
    {
      "cell_type": "markdown",
      "metadata": {
        "id": "6iQYRL8NmFYs"
      },
      "source": [
        "# Towards Backpropagation\n",
        "This is where the magic will happen ... ✨ <br>\n",
        "\n",
        "## The Value class\n",
        "First we'll implement a Value class that will help us to keep track of the compute graph, values and gradients."
      ]
    },
    {
      "cell_type": "code",
      "execution_count": 8,
      "metadata": {
        "colab": {
          "base_uri": "https://localhost:8080/"
        },
        "id": "B1B7r28bmFYs",
        "outputId": "d1ce3873-11a4-490a-ec6f-97b772a7a001"
      },
      "outputs": [
        {
          "output_type": "stream",
          "name": "stdout",
          "text": [
            "Value(data=5)\n",
            "Value(data=6)\n"
          ]
        }
      ],
      "source": [
        "class Value:\n",
        "\n",
        "  def __init__(self, data, _children=(), _op='', label=''):\n",
        "    self.data = data\n",
        "    self.grad = 0.0\n",
        "    self._prev = set(_children)\n",
        "    self._op = _op\n",
        "    self.label = label\n",
        "\n",
        "  def __repr__(self):\n",
        "    return f\"Value(data={self.data})\"\n",
        "\n",
        "  def __add__(self, other):\n",
        "    other = other if isinstance(other, Value) else Value(other)\n",
        "    out = Value(self.data + other.data, (self, other), '+')\n",
        "\n",
        "    return out\n",
        "\n",
        "  def __mul__(self, other):\n",
        "    other = other if isinstance(other, Value) else Value(other)\n",
        "    out = Value(self.data * other.data, (self, other), '*')\n",
        "\n",
        "    return out\n",
        "\n",
        "  def __pow__(self, other):\n",
        "    assert isinstance(other, (int, float)), \"only supporting int/float powers for now\"\n",
        "    out = Value(self.data**other, (self,), f'**{other}')\n",
        "\n",
        "    return out\n",
        "\n",
        "  def __rmul__(self, other): # other * self\n",
        "    return self * other\n",
        "\n",
        "  def __truediv__(self, other): # self / other\n",
        "    return self * other**-1\n",
        "\n",
        "  def __neg__(self): # -self\n",
        "    return self * -1\n",
        "\n",
        "  def __sub__(self, other): # self - other\n",
        "    return self + (-other)\n",
        "\n",
        "  def __radd__(self, other): # other + self\n",
        "    return self + other\n",
        "\n",
        "  def tanh(self):\n",
        "    x = self.data\n",
        "    t = (math.exp(2*x) - 1)/(math.exp(2*x) + 1)\n",
        "    out = Value(t, (self, ), 'tanh')\n",
        "\n",
        "    return out\n",
        "\n",
        "  def relu(self):\n",
        "    out = Value(0 if self.data < 0 else self.data, (self,), 'ReLU')\n",
        "\n",
        "    return out\n",
        "\n",
        "  def exp(self):\n",
        "    x = self.data\n",
        "    out = Value(math.exp(x), (self, ), 'exp')\n",
        "\n",
        "    return out\n",
        "\n",
        "# a quick working example\n",
        "print(Value(1) + Value(4))\n",
        "print(Value(2) * Value(3))"
      ]
    },
    {
      "cell_type": "markdown",
      "metadata": {
        "id": "yyI4aYC_mFYt"
      },
      "source": [
        "### Visualization Helpers\n",
        "\n",
        "The following functions will help us to visualize the compute graph."
      ]
    },
    {
      "cell_type": "code",
      "execution_count": 9,
      "metadata": {
        "colab": {
          "base_uri": "https://localhost:8080/",
          "height": 211
        },
        "id": "z81FkCVQmFYt",
        "outputId": "4ed09b5f-2354-4289-addf-1621737485a4"
      },
      "outputs": [
        {
          "output_type": "execute_result",
          "data": {
            "image/svg+xml": "<?xml version=\"1.0\" encoding=\"UTF-8\" standalone=\"no\"?>\n<!DOCTYPE svg PUBLIC \"-//W3C//DTD SVG 1.1//EN\"\n \"http://www.w3.org/Graphics/SVG/1.1/DTD/svg11.dtd\">\n<!-- Generated by graphviz version 2.43.0 (0)\n -->\n<!-- Title: %3 Pages: 1 -->\n<svg width=\"926pt\" height=\"128pt\"\n viewBox=\"0.00 0.00 926.00 128.00\" xmlns=\"http://www.w3.org/2000/svg\" xmlns:xlink=\"http://www.w3.org/1999/xlink\">\n<g id=\"graph0\" class=\"graph\" transform=\"scale(1 1) rotate(0) translate(4 124)\">\n<title>%3</title>\n<polygon fill=\"white\" stroke=\"transparent\" points=\"-4,4 -4,-124 922,-124 922,4 -4,4\"/>\n<!-- 132852367121408 -->\n<g id=\"node1\" class=\"node\">\n<title>132852367121408</title>\n<polygon fill=\"none\" stroke=\"black\" points=\"0,-83.5 0,-119.5 135,-119.5 135,-83.5 0,-83.5\"/>\n<text text-anchor=\"middle\" x=\"33.5\" y=\"-97.8\" font-family=\"Times,serif\" font-size=\"14.00\">data 1.00</text>\n<polyline fill=\"none\" stroke=\"black\" points=\"67,-83.5 67,-119.5 \"/>\n<text text-anchor=\"middle\" x=\"101\" y=\"-97.8\" font-family=\"Times,serif\" font-size=\"14.00\">grad 0.00</text>\n</g>\n<!-- 132852367130192* -->\n<g id=\"node4\" class=\"node\">\n<title>132852367130192*</title>\n<ellipse fill=\"none\" stroke=\"black\" cx=\"198\" cy=\"-73.5\" rx=\"27\" ry=\"18\"/>\n<text text-anchor=\"middle\" x=\"198\" y=\"-69.8\" font-family=\"Times,serif\" font-size=\"14.00\">*</text>\n</g>\n<!-- 132852367121408&#45;&gt;132852367130192* -->\n<g id=\"edge4\" class=\"edge\">\n<title>132852367121408&#45;&gt;132852367130192*</title>\n<path fill=\"none\" stroke=\"black\" d=\"M135.01,-87.01C144.41,-84.96 153.75,-82.92 162.22,-81.08\"/>\n<polygon fill=\"black\" stroke=\"black\" points=\"163.04,-84.48 172.06,-78.93 161.55,-77.64 163.04,-84.48\"/>\n</g>\n<!-- 132852367121456 -->\n<g id=\"node2\" class=\"node\">\n<title>132852367121456</title>\n<polygon fill=\"none\" stroke=\"black\" points=\"0,-28.5 0,-64.5 135,-64.5 135,-28.5 0,-28.5\"/>\n<text text-anchor=\"middle\" x=\"33.5\" y=\"-42.8\" font-family=\"Times,serif\" font-size=\"14.00\">data 2.00</text>\n<polyline fill=\"none\" stroke=\"black\" points=\"67,-28.5 67,-64.5 \"/>\n<text text-anchor=\"middle\" x=\"101\" y=\"-42.8\" font-family=\"Times,serif\" font-size=\"14.00\">grad 0.00</text>\n</g>\n<!-- 132852367121456&#45;&gt;132852367130192* -->\n<g id=\"edge5\" class=\"edge\">\n<title>132852367121456&#45;&gt;132852367130192*</title>\n<path fill=\"none\" stroke=\"black\" d=\"M135.01,-60.47C144.41,-62.45 153.75,-64.41 162.22,-66.19\"/>\n<polygon fill=\"black\" stroke=\"black\" points=\"161.56,-69.63 172.06,-68.26 163,-62.78 161.56,-69.63\"/>\n</g>\n<!-- 132852367130192 -->\n<g id=\"node3\" class=\"node\">\n<title>132852367130192</title>\n<polygon fill=\"none\" stroke=\"black\" points=\"261,-55.5 261,-91.5 396,-91.5 396,-55.5 261,-55.5\"/>\n<text text-anchor=\"middle\" x=\"294.5\" y=\"-69.8\" font-family=\"Times,serif\" font-size=\"14.00\">data 2.00</text>\n<polyline fill=\"none\" stroke=\"black\" points=\"328,-55.5 328,-91.5 \"/>\n<text text-anchor=\"middle\" x=\"362\" y=\"-69.8\" font-family=\"Times,serif\" font-size=\"14.00\">grad 0.00</text>\n</g>\n<!-- 132852367123136+ -->\n<g id=\"node7\" class=\"node\">\n<title>132852367123136+</title>\n<ellipse fill=\"none\" stroke=\"black\" cx=\"459\" cy=\"-45.5\" rx=\"27\" ry=\"18\"/>\n<text text-anchor=\"middle\" x=\"459\" y=\"-41.8\" font-family=\"Times,serif\" font-size=\"14.00\">+</text>\n</g>\n<!-- 132852367130192&#45;&gt;132852367123136+ -->\n<g id=\"edge6\" class=\"edge\">\n<title>132852367130192&#45;&gt;132852367123136+</title>\n<path fill=\"none\" stroke=\"black\" d=\"M396.01,-59.01C405.41,-56.96 414.75,-54.92 423.22,-53.08\"/>\n<polygon fill=\"black\" stroke=\"black\" points=\"424.04,-56.48 433.06,-50.93 422.55,-49.64 424.04,-56.48\"/>\n</g>\n<!-- 132852367130192*&#45;&gt;132852367130192 -->\n<g id=\"edge1\" class=\"edge\">\n<title>132852367130192*&#45;&gt;132852367130192</title>\n<path fill=\"none\" stroke=\"black\" d=\"M225,-73.5C232.71,-73.5 241.56,-73.5 250.77,-73.5\"/>\n<polygon fill=\"black\" stroke=\"black\" points=\"250.87,-77 260.87,-73.5 250.87,-70 250.87,-77\"/>\n</g>\n<!-- 132852367126640 -->\n<g id=\"node5\" class=\"node\">\n<title>132852367126640</title>\n<polygon fill=\"none\" stroke=\"black\" points=\"261,-0.5 261,-36.5 396,-36.5 396,-0.5 261,-0.5\"/>\n<text text-anchor=\"middle\" x=\"294.5\" y=\"-14.8\" font-family=\"Times,serif\" font-size=\"14.00\">data 1.00</text>\n<polyline fill=\"none\" stroke=\"black\" points=\"328,-0.5 328,-36.5 \"/>\n<text text-anchor=\"middle\" x=\"362\" y=\"-14.8\" font-family=\"Times,serif\" font-size=\"14.00\">grad 0.00</text>\n</g>\n<!-- 132852367126640&#45;&gt;132852367123136+ -->\n<g id=\"edge7\" class=\"edge\">\n<title>132852367126640&#45;&gt;132852367123136+</title>\n<path fill=\"none\" stroke=\"black\" d=\"M396.01,-32.47C405.41,-34.45 414.75,-36.41 423.22,-38.19\"/>\n<polygon fill=\"black\" stroke=\"black\" points=\"422.56,-41.63 433.06,-40.26 424,-34.78 422.56,-41.63\"/>\n</g>\n<!-- 132852367123136 -->\n<g id=\"node6\" class=\"node\">\n<title>132852367123136</title>\n<polygon fill=\"none\" stroke=\"black\" points=\"522,-27.5 522,-63.5 657,-63.5 657,-27.5 522,-27.5\"/>\n<text text-anchor=\"middle\" x=\"555.5\" y=\"-41.8\" font-family=\"Times,serif\" font-size=\"14.00\">data 3.00</text>\n<polyline fill=\"none\" stroke=\"black\" points=\"589,-27.5 589,-63.5 \"/>\n<text text-anchor=\"middle\" x=\"623\" y=\"-41.8\" font-family=\"Times,serif\" font-size=\"14.00\">grad 0.00</text>\n</g>\n<!-- 132852367120640tanh -->\n<g id=\"node9\" class=\"node\">\n<title>132852367120640tanh</title>\n<ellipse fill=\"none\" stroke=\"black\" cx=\"720\" cy=\"-45.5\" rx=\"27\" ry=\"18\"/>\n<text text-anchor=\"middle\" x=\"720\" y=\"-41.8\" font-family=\"Times,serif\" font-size=\"14.00\">tanh</text>\n</g>\n<!-- 132852367123136&#45;&gt;132852367120640tanh -->\n<g id=\"edge8\" class=\"edge\">\n<title>132852367123136&#45;&gt;132852367120640tanh</title>\n<path fill=\"none\" stroke=\"black\" d=\"M657.01,-45.5C665.87,-45.5 674.66,-45.5 682.73,-45.5\"/>\n<polygon fill=\"black\" stroke=\"black\" points=\"682.86,-49 692.86,-45.5 682.86,-42 682.86,-49\"/>\n</g>\n<!-- 132852367123136+&#45;&gt;132852367123136 -->\n<g id=\"edge2\" class=\"edge\">\n<title>132852367123136+&#45;&gt;132852367123136</title>\n<path fill=\"none\" stroke=\"black\" d=\"M486,-45.5C493.71,-45.5 502.56,-45.5 511.77,-45.5\"/>\n<polygon fill=\"black\" stroke=\"black\" points=\"511.87,-49 521.87,-45.5 511.87,-42 511.87,-49\"/>\n</g>\n<!-- 132852367120640 -->\n<g id=\"node8\" class=\"node\">\n<title>132852367120640</title>\n<polygon fill=\"none\" stroke=\"black\" points=\"783,-27.5 783,-63.5 918,-63.5 918,-27.5 783,-27.5\"/>\n<text text-anchor=\"middle\" x=\"816.5\" y=\"-41.8\" font-family=\"Times,serif\" font-size=\"14.00\">data 1.00</text>\n<polyline fill=\"none\" stroke=\"black\" points=\"850,-27.5 850,-63.5 \"/>\n<text text-anchor=\"middle\" x=\"884\" y=\"-41.8\" font-family=\"Times,serif\" font-size=\"14.00\">grad 0.00</text>\n</g>\n<!-- 132852367120640tanh&#45;&gt;132852367120640 -->\n<g id=\"edge3\" class=\"edge\">\n<title>132852367120640tanh&#45;&gt;132852367120640</title>\n<path fill=\"none\" stroke=\"black\" d=\"M747,-45.5C754.71,-45.5 763.56,-45.5 772.77,-45.5\"/>\n<polygon fill=\"black\" stroke=\"black\" points=\"772.87,-49 782.87,-45.5 772.87,-42 772.87,-49\"/>\n</g>\n</g>\n</svg>\n",
            "text/plain": [
              "<graphviz.graphs.Digraph at 0x78d41a265780>"
            ]
          },
          "metadata": {},
          "execution_count": 9
        }
      ],
      "source": [
        "from graphviz import Digraph\n",
        "\n",
        "def trace(root):\n",
        "  # builds a set of all nodes and edges in a graph\n",
        "  nodes, edges = set(), set()\n",
        "  def build(v):\n",
        "    if v not in nodes:\n",
        "      nodes.add(v)\n",
        "      for child in v._prev:\n",
        "        edges.add((child, v))\n",
        "        build(child)\n",
        "  build(root)\n",
        "  return nodes, edges\n",
        "\n",
        "def draw_dot(root):\n",
        "  dot = Digraph(format='svg', graph_attr={'rankdir': 'LR'}) # LR = left to right\n",
        "\n",
        "  nodes, edges = trace(root)\n",
        "  for n in nodes:\n",
        "    uid = str(id(n))\n",
        "    # for any value in the graph, create a rectangular ('record') node for it\n",
        "    dot.node(name = uid, label = \"{%sdata %.2f | grad %.2f}\" % (f\"{n.label} |\" if n.label else '', n.data, n.grad), shape='record')\n",
        "    if n._op:\n",
        "      # if this value is a result of some operation, create an op node for it\n",
        "      dot.node(name = uid + n._op, label = n._op)\n",
        "      # and connect this node to it\n",
        "      dot.edge(uid + n._op, uid)\n",
        "\n",
        "  for n1, n2 in edges:\n",
        "    # connect n1 to the op node of n2\n",
        "    dot.edge(str(id(n1)), str(id(n2)) + n2._op)\n",
        "\n",
        "  return dot\n",
        "\n",
        "\n",
        "# Let's visualize a very simple example\n",
        "x = Value(1.0)\n",
        "y = (x * 2 + 1).tanh()\n",
        "draw_dot(y)\n",
        "# ignore grad for now!!!"
      ]
    },
    {
      "cell_type": "markdown",
      "metadata": {
        "id": "NuU1I_dlmFYt"
      },
      "source": [
        "## Let's use the example from above\n",
        "An example with a more complex function and multiple parameters:\n",
        "$f(x, y, z) = (x + y) * z$. <br>\n",
        "This example with the exact same parameters is used on the slides:\n",
        "$ x = -2, y = 5, z = -4$."
      ]
    },
    {
      "cell_type": "code",
      "execution_count": 10,
      "metadata": {
        "colab": {
          "base_uri": "https://localhost:8080/",
          "height": 211
        },
        "id": "sJjgKuQFmFYt",
        "outputId": "c152a91f-ece3-4f21-f87f-ee8de486c399"
      },
      "outputs": [
        {
          "output_type": "execute_result",
          "data": {
            "image/svg+xml": "<?xml version=\"1.0\" encoding=\"UTF-8\" standalone=\"no\"?>\n<!DOCTYPE svg PUBLIC \"-//W3C//DTD SVG 1.1//EN\"\n \"http://www.w3.org/Graphics/SVG/1.1/DTD/svg11.dtd\">\n<!-- Generated by graphviz version 2.43.0 (0)\n -->\n<!-- Title: %3 Pages: 1 -->\n<svg width=\"794pt\" height=\"128pt\"\n viewBox=\"0.00 0.00 794.00 128.00\" xmlns=\"http://www.w3.org/2000/svg\" xmlns:xlink=\"http://www.w3.org/1999/xlink\">\n<g id=\"graph0\" class=\"graph\" transform=\"scale(1 1) rotate(0) translate(4 124)\">\n<title>%3</title>\n<polygon fill=\"white\" stroke=\"transparent\" points=\"-4,4 -4,-124 790,-124 790,4 -4,4\"/>\n<!-- 132852367107664 -->\n<g id=\"node1\" class=\"node\">\n<title>132852367107664</title>\n<polygon fill=\"none\" stroke=\"black\" points=\"0,-83.5 0,-119.5 167,-119.5 167,-83.5 0,-83.5\"/>\n<text text-anchor=\"middle\" x=\"11.5\" y=\"-97.8\" font-family=\"Times,serif\" font-size=\"14.00\">x</text>\n<polyline fill=\"none\" stroke=\"black\" points=\"23,-83.5 23,-119.5 \"/>\n<text text-anchor=\"middle\" x=\"58.5\" y=\"-97.8\" font-family=\"Times,serif\" font-size=\"14.00\">data &#45;2.00</text>\n<polyline fill=\"none\" stroke=\"black\" points=\"94,-83.5 94,-119.5 \"/>\n<text text-anchor=\"middle\" x=\"130.5\" y=\"-97.8\" font-family=\"Times,serif\" font-size=\"14.00\">grad &#45;4.00</text>\n</g>\n<!-- 132852367498624+ -->\n<g id=\"node5\" class=\"node\">\n<title>132852367498624+</title>\n<ellipse fill=\"none\" stroke=\"black\" cx=\"230\" cy=\"-73.5\" rx=\"27\" ry=\"18\"/>\n<text text-anchor=\"middle\" x=\"230\" y=\"-69.8\" font-family=\"Times,serif\" font-size=\"14.00\">+</text>\n</g>\n<!-- 132852367107664&#45;&gt;132852367498624+ -->\n<g id=\"edge6\" class=\"edge\">\n<title>132852367107664&#45;&gt;132852367498624+</title>\n<path fill=\"none\" stroke=\"black\" d=\"M167.3,-85.46C176.61,-83.65 185.68,-81.89 193.88,-80.31\"/>\n<polygon fill=\"black\" stroke=\"black\" points=\"194.59,-83.73 203.75,-78.39 193.26,-76.86 194.59,-83.73\"/>\n</g>\n<!-- 132852367111936 -->\n<g id=\"node2\" class=\"node\">\n<title>132852367111936</title>\n<polygon fill=\"none\" stroke=\"black\" points=\"2,-28.5 2,-64.5 165,-64.5 165,-28.5 2,-28.5\"/>\n<text text-anchor=\"middle\" x=\"13.5\" y=\"-42.8\" font-family=\"Times,serif\" font-size=\"14.00\">y</text>\n<polyline fill=\"none\" stroke=\"black\" points=\"25,-28.5 25,-64.5 \"/>\n<text text-anchor=\"middle\" x=\"58.5\" y=\"-42.8\" font-family=\"Times,serif\" font-size=\"14.00\">data 5.00</text>\n<polyline fill=\"none\" stroke=\"black\" points=\"92,-28.5 92,-64.5 \"/>\n<text text-anchor=\"middle\" x=\"128.5\" y=\"-42.8\" font-family=\"Times,serif\" font-size=\"14.00\">grad &#45;4.00</text>\n</g>\n<!-- 132852367111936&#45;&gt;132852367498624+ -->\n<g id=\"edge3\" class=\"edge\">\n<title>132852367111936&#45;&gt;132852367498624+</title>\n<path fill=\"none\" stroke=\"black\" d=\"M165.2,-61.58C175.13,-63.43 184.84,-65.25 193.57,-66.88\"/>\n<polygon fill=\"black\" stroke=\"black\" points=\"193.21,-70.37 203.69,-68.77 194.5,-63.49 193.21,-70.37\"/>\n</g>\n<!-- 132852367107952 -->\n<g id=\"node3\" class=\"node\">\n<title>132852367107952</title>\n<polygon fill=\"none\" stroke=\"black\" points=\"311,-0.5 311,-36.5 473,-36.5 473,-0.5 311,-0.5\"/>\n<text text-anchor=\"middle\" x=\"322.5\" y=\"-14.8\" font-family=\"Times,serif\" font-size=\"14.00\">z</text>\n<polyline fill=\"none\" stroke=\"black\" points=\"334,-0.5 334,-36.5 \"/>\n<text text-anchor=\"middle\" x=\"369.5\" y=\"-14.8\" font-family=\"Times,serif\" font-size=\"14.00\">data &#45;4.00</text>\n<polyline fill=\"none\" stroke=\"black\" points=\"405,-0.5 405,-36.5 \"/>\n<text text-anchor=\"middle\" x=\"439\" y=\"-14.8\" font-family=\"Times,serif\" font-size=\"14.00\">grad 3.00</text>\n</g>\n<!-- 132852367502320* -->\n<g id=\"node7\" class=\"node\">\n<title>132852367502320*</title>\n<ellipse fill=\"none\" stroke=\"black\" cx=\"554\" cy=\"-45.5\" rx=\"27\" ry=\"18\"/>\n<text text-anchor=\"middle\" x=\"554\" y=\"-41.8\" font-family=\"Times,serif\" font-size=\"14.00\">*</text>\n</g>\n<!-- 132852367107952&#45;&gt;132852367502320* -->\n<g id=\"edge5\" class=\"edge\">\n<title>132852367107952&#45;&gt;132852367502320*</title>\n<path fill=\"none\" stroke=\"black\" d=\"M473.47,-32.08C488.94,-34.69 504.39,-37.3 517.5,-39.51\"/>\n<polygon fill=\"black\" stroke=\"black\" points=\"517.03,-42.98 527.47,-41.19 518.2,-36.08 517.03,-42.98\"/>\n</g>\n<!-- 132852367498624 -->\n<g id=\"node4\" class=\"node\">\n<title>132852367498624</title>\n<polygon fill=\"none\" stroke=\"black\" points=\"293,-55.5 293,-91.5 491,-91.5 491,-55.5 293,-55.5\"/>\n<text text-anchor=\"middle\" x=\"322\" y=\"-69.8\" font-family=\"Times,serif\" font-size=\"14.00\">q (x+y)</text>\n<polyline fill=\"none\" stroke=\"black\" points=\"351,-55.5 351,-91.5 \"/>\n<text text-anchor=\"middle\" x=\"384.5\" y=\"-69.8\" font-family=\"Times,serif\" font-size=\"14.00\">data 3.00</text>\n<polyline fill=\"none\" stroke=\"black\" points=\"418,-55.5 418,-91.5 \"/>\n<text text-anchor=\"middle\" x=\"454.5\" y=\"-69.8\" font-family=\"Times,serif\" font-size=\"14.00\">grad &#45;4.00</text>\n</g>\n<!-- 132852367498624&#45;&gt;132852367502320* -->\n<g id=\"edge4\" class=\"edge\">\n<title>132852367498624&#45;&gt;132852367502320*</title>\n<path fill=\"none\" stroke=\"black\" d=\"M491.14,-56.33C500.5,-54.69 509.5,-53.11 517.61,-51.69\"/>\n<polygon fill=\"black\" stroke=\"black\" points=\"518.46,-55.1 527.7,-49.93 517.25,-48.2 518.46,-55.1\"/>\n</g>\n<!-- 132852367498624+&#45;&gt;132852367498624 -->\n<g id=\"edge1\" class=\"edge\">\n<title>132852367498624+&#45;&gt;132852367498624</title>\n<path fill=\"none\" stroke=\"black\" d=\"M257.06,-73.5C264.54,-73.5 273.2,-73.5 282.44,-73.5\"/>\n<polygon fill=\"black\" stroke=\"black\" points=\"282.67,-77 292.67,-73.5 282.67,-70 282.67,-77\"/>\n</g>\n<!-- 132852367502320 -->\n<g id=\"node6\" class=\"node\">\n<title>132852367502320</title>\n<polygon fill=\"none\" stroke=\"black\" points=\"617,-27.5 617,-63.5 786,-63.5 786,-27.5 617,-27.5\"/>\n<text text-anchor=\"middle\" x=\"628.5\" y=\"-41.8\" font-family=\"Times,serif\" font-size=\"14.00\">o</text>\n<polyline fill=\"none\" stroke=\"black\" points=\"640,-27.5 640,-63.5 \"/>\n<text text-anchor=\"middle\" x=\"679\" y=\"-41.8\" font-family=\"Times,serif\" font-size=\"14.00\">data &#45;12.00</text>\n<polyline fill=\"none\" stroke=\"black\" points=\"718,-27.5 718,-63.5 \"/>\n<text text-anchor=\"middle\" x=\"752\" y=\"-41.8\" font-family=\"Times,serif\" font-size=\"14.00\">grad 1.00</text>\n</g>\n<!-- 132852367502320*&#45;&gt;132852367502320 -->\n<g id=\"edge2\" class=\"edge\">\n<title>132852367502320*&#45;&gt;132852367502320</title>\n<path fill=\"none\" stroke=\"black\" d=\"M581.01,-45.5C588.58,-45.5 597.31,-45.5 606.54,-45.5\"/>\n<polygon fill=\"black\" stroke=\"black\" points=\"606.72,-49 616.72,-45.5 606.72,-42 606.72,-49\"/>\n</g>\n</g>\n</svg>\n",
            "text/plain": [
              "<graphviz.graphs.Digraph at 0x78d41a262e90>"
            ]
          },
          "metadata": {},
          "execution_count": 10
        }
      ],
      "source": [
        "x = Value(-2.0); x.label='x'\n",
        "y = Value(5); y.label='y'\n",
        "z = Value(-4.0); z.label='z'\n",
        "\n",
        "q = x + y; q.label = 'q (x+y)'\n",
        "o = q*z; o.label='o'\n",
        "\n",
        "# gradients\n",
        "o.grad = 1.0\n",
        "q.grad = -4.0\n",
        "x.grad = -4.0\n",
        "y.grad = -4.0\n",
        "z.grad = 3.0\n",
        "\n",
        "draw_dot(o)"
      ]
    },
    {
      "cell_type": "markdown",
      "metadata": {
        "id": "6CGd5KHGmFYu"
      },
      "source": [
        "# Task 2 📝: Backprop on sheet and paper\n",
        "\n",
        "Hand in a picture (hand-drawn or digitally with the code below) showing the gradients for the example below. Document your steps how you got to your result. <br>\n",
        "\n",
        "The example will be different for each student as the random values are different. Enter your birthdate (`d, m, y`) in the code below to get individual values.\n"
      ]
    },
    {
      "cell_type": "code",
      "execution_count": 11,
      "metadata": {
        "colab": {
          "base_uri": "https://localhost:8080/",
          "height": 467
        },
        "id": "8dk8PAx3mFYu",
        "outputId": "6f8e69c5-631f-4e55-a5fb-30217ffa39de"
      },
      "outputs": [
        {
          "output_type": "execute_result",
          "data": {
            "image/svg+xml": "<?xml version=\"1.0\" encoding=\"UTF-8\" standalone=\"no\"?>\n<!DOCTYPE svg PUBLIC \"-//W3C//DTD SVG 1.1//EN\"\n \"http://www.w3.org/Graphics/SVG/1.1/DTD/svg11.dtd\">\n<!-- Generated by graphviz version 2.43.0 (0)\n -->\n<!-- Title: %3 Pages: 1 -->\n<svg width=\"1358pt\" height=\"320pt\"\n viewBox=\"0.00 0.00 1358.00 320.00\" xmlns=\"http://www.w3.org/2000/svg\" xmlns:xlink=\"http://www.w3.org/1999/xlink\">\n<g id=\"graph0\" class=\"graph\" transform=\"scale(1 1) rotate(0) translate(4 316)\">\n<title>%3</title>\n<polygon fill=\"white\" stroke=\"transparent\" points=\"-4,4 -4,-316 1354,-316 1354,4 -4,4\"/>\n<!-- 132852365827072 -->\n<g id=\"node1\" class=\"node\">\n<title>132852365827072</title>\n<polygon fill=\"none\" stroke=\"black\" points=\"1.5,-275.5 1.5,-311.5 166.5,-311.5 166.5,-275.5 1.5,-275.5\"/>\n<text text-anchor=\"middle\" x=\"16.5\" y=\"-289.8\" font-family=\"Times,serif\" font-size=\"14.00\">x2</text>\n<polyline fill=\"none\" stroke=\"black\" points=\"31.5,-275.5 31.5,-311.5 \"/>\n<text text-anchor=\"middle\" x=\"65\" y=\"-289.8\" font-family=\"Times,serif\" font-size=\"14.00\">data 9.00</text>\n<polyline fill=\"none\" stroke=\"black\" points=\"98.5,-275.5 98.5,-311.5 \"/>\n<text text-anchor=\"middle\" x=\"132.5\" y=\"-289.8\" font-family=\"Times,serif\" font-size=\"14.00\">grad 0.00</text>\n</g>\n<!-- 132852367122896* -->\n<g id=\"node19\" class=\"node\">\n<title>132852367122896*</title>\n<ellipse fill=\"none\" stroke=\"black\" cx=\"231\" cy=\"-238.5\" rx=\"27\" ry=\"18\"/>\n<text text-anchor=\"middle\" x=\"231\" y=\"-234.8\" font-family=\"Times,serif\" font-size=\"14.00\">*</text>\n</g>\n<!-- 132852365827072&#45;&gt;132852367122896* -->\n<g id=\"edge12\" class=\"edge\">\n<title>132852365827072&#45;&gt;132852367122896*</title>\n<path fill=\"none\" stroke=\"black\" d=\"M143.33,-275.42C151.66,-272.58 160.09,-269.56 168,-266.5 178.43,-262.46 189.63,-257.58 199.61,-253.03\"/>\n<polygon fill=\"black\" stroke=\"black\" points=\"201.12,-256.18 208.73,-248.81 198.18,-249.83 201.12,-256.18\"/>\n</g>\n<!-- 132852367129616 -->\n<g id=\"node2\" class=\"node\">\n<title>132852367129616</title>\n<polygon fill=\"none\" stroke=\"black\" points=\"900.5,-34.5 900.5,-70.5 1035.5,-70.5 1035.5,-34.5 900.5,-34.5\"/>\n<text text-anchor=\"middle\" x=\"934\" y=\"-48.8\" font-family=\"Times,serif\" font-size=\"14.00\">data 0.25</text>\n<polyline fill=\"none\" stroke=\"black\" points=\"967.5,-34.5 967.5,-70.5 \"/>\n<text text-anchor=\"middle\" x=\"1001.5\" y=\"-48.8\" font-family=\"Times,serif\" font-size=\"14.00\">grad 0.00</text>\n</g>\n<!-- 132852367123280* -->\n<g id=\"node10\" class=\"node\">\n<title>132852367123280*</title>\n<ellipse fill=\"none\" stroke=\"black\" cx=\"1122\" cy=\"-79.5\" rx=\"27\" ry=\"18\"/>\n<text text-anchor=\"middle\" x=\"1122\" y=\"-75.8\" font-family=\"Times,serif\" font-size=\"14.00\">*</text>\n</g>\n<!-- 132852367129616&#45;&gt;132852367123280* -->\n<g id=\"edge13\" class=\"edge\">\n<title>132852367129616&#45;&gt;132852367123280*</title>\n<path fill=\"none\" stroke=\"black\" d=\"M1035.67,-64.34C1052.74,-67.38 1070.45,-70.52 1085.29,-73.16\"/>\n<polygon fill=\"black\" stroke=\"black\" points=\"1085.07,-76.67 1095.53,-74.98 1086.29,-69.78 1085.07,-76.67\"/>\n</g>\n<!-- 132852367493680 -->\n<g id=\"node3\" class=\"node\">\n<title>132852367493680</title>\n<polygon fill=\"none\" stroke=\"black\" points=\"1.5,-165.5 1.5,-201.5 166.5,-201.5 166.5,-165.5 1.5,-165.5\"/>\n<text text-anchor=\"middle\" x=\"16.5\" y=\"-179.8\" font-family=\"Times,serif\" font-size=\"14.00\">x1</text>\n<polyline fill=\"none\" stroke=\"black\" points=\"31.5,-165.5 31.5,-201.5 \"/>\n<text text-anchor=\"middle\" x=\"65\" y=\"-179.8\" font-family=\"Times,serif\" font-size=\"14.00\">data 9.00</text>\n<polyline fill=\"none\" stroke=\"black\" points=\"98.5,-165.5 98.5,-201.5 \"/>\n<text text-anchor=\"middle\" x=\"132.5\" y=\"-179.8\" font-family=\"Times,serif\" font-size=\"14.00\">grad 0.00</text>\n</g>\n<!-- 132852367121792* -->\n<g id=\"node15\" class=\"node\">\n<title>132852367121792*</title>\n<ellipse fill=\"none\" stroke=\"black\" cx=\"231\" cy=\"-156.5\" rx=\"27\" ry=\"18\"/>\n<text text-anchor=\"middle\" x=\"231\" y=\"-152.8\" font-family=\"Times,serif\" font-size=\"14.00\">*</text>\n</g>\n<!-- 132852367493680&#45;&gt;132852367121792* -->\n<g id=\"edge9\" class=\"edge\">\n<title>132852367493680&#45;&gt;132852367121792*</title>\n<path fill=\"none\" stroke=\"black\" d=\"M166.82,-168.26C176.6,-166.44 186.14,-164.67 194.73,-163.07\"/>\n<polygon fill=\"black\" stroke=\"black\" points=\"195.49,-166.49 204.68,-161.22 194.21,-159.6 195.49,-166.49\"/>\n</g>\n<!-- 132852365829088 -->\n<g id=\"node4\" class=\"node\">\n<title>132852365829088</title>\n<polygon fill=\"none\" stroke=\"black\" points=\"0,-220.5 0,-256.5 168,-256.5 168,-220.5 0,-220.5\"/>\n<text text-anchor=\"middle\" x=\"16.5\" y=\"-234.8\" font-family=\"Times,serif\" font-size=\"14.00\">w2</text>\n<polyline fill=\"none\" stroke=\"black\" points=\"33,-220.5 33,-256.5 \"/>\n<text text-anchor=\"middle\" x=\"66.5\" y=\"-234.8\" font-family=\"Times,serif\" font-size=\"14.00\">data 3.00</text>\n<polyline fill=\"none\" stroke=\"black\" points=\"100,-220.5 100,-256.5 \"/>\n<text text-anchor=\"middle\" x=\"134\" y=\"-234.8\" font-family=\"Times,serif\" font-size=\"14.00\">grad 0.00</text>\n</g>\n<!-- 132852365829088&#45;&gt;132852367122896* -->\n<g id=\"edge8\" class=\"edge\">\n<title>132852365829088&#45;&gt;132852367122896*</title>\n<path fill=\"none\" stroke=\"black\" d=\"M168.09,-238.5C176.96,-238.5 185.62,-238.5 193.51,-238.5\"/>\n<polygon fill=\"black\" stroke=\"black\" points=\"193.75,-242 203.75,-238.5 193.75,-235 193.75,-242\"/>\n</g>\n<!-- 132852365828992 -->\n<g id=\"node5\" class=\"node\">\n<title>132852365828992</title>\n<polygon fill=\"none\" stroke=\"black\" points=\"0,-110.5 0,-146.5 168,-146.5 168,-110.5 0,-110.5\"/>\n<text text-anchor=\"middle\" x=\"16.5\" y=\"-124.8\" font-family=\"Times,serif\" font-size=\"14.00\">w1</text>\n<polyline fill=\"none\" stroke=\"black\" points=\"33,-110.5 33,-146.5 \"/>\n<text text-anchor=\"middle\" x=\"66.5\" y=\"-124.8\" font-family=\"Times,serif\" font-size=\"14.00\">data 5.00</text>\n<polyline fill=\"none\" stroke=\"black\" points=\"100,-110.5 100,-146.5 \"/>\n<text text-anchor=\"middle\" x=\"134\" y=\"-124.8\" font-family=\"Times,serif\" font-size=\"14.00\">grad 0.00</text>\n</g>\n<!-- 132852365828992&#45;&gt;132852367121792* -->\n<g id=\"edge20\" class=\"edge\">\n<title>132852365828992&#45;&gt;132852367121792*</title>\n<path fill=\"none\" stroke=\"black\" d=\"M168.09,-144.54C177.52,-146.37 186.71,-148.14 194.99,-149.74\"/>\n<polygon fill=\"black\" stroke=\"black\" points=\"194.48,-153.2 204.96,-151.66 195.8,-146.33 194.48,-153.2\"/>\n</g>\n<!-- 132852367122656 -->\n<g id=\"node6\" class=\"node\">\n<title>132852367122656</title>\n<polygon fill=\"none\" stroke=\"black\" points=\"609,-62.5 609,-98.5 751,-98.5 751,-62.5 609,-62.5\"/>\n<text text-anchor=\"middle\" x=\"646\" y=\"-76.8\" font-family=\"Times,serif\" font-size=\"14.00\">data 21.00</text>\n<polyline fill=\"none\" stroke=\"black\" points=\"683,-62.5 683,-98.5 \"/>\n<text text-anchor=\"middle\" x=\"717\" y=\"-76.8\" font-family=\"Times,serif\" font-size=\"14.00\">grad 0.00</text>\n</g>\n<!-- 132852367129568+ -->\n<g id=\"node21\" class=\"node\">\n<title>132852367129568+</title>\n<ellipse fill=\"none\" stroke=\"black\" cx=\"814\" cy=\"-107.5\" rx=\"27\" ry=\"18\"/>\n<text text-anchor=\"middle\" x=\"814\" y=\"-103.8\" font-family=\"Times,serif\" font-size=\"14.00\">+</text>\n</g>\n<!-- 132852367122656&#45;&gt;132852367129568+ -->\n<g id=\"edge15\" class=\"edge\">\n<title>132852367122656&#45;&gt;132852367129568+</title>\n<path fill=\"none\" stroke=\"black\" d=\"M751.25,-94.87C760.52,-96.76 769.67,-98.64 777.97,-100.34\"/>\n<polygon fill=\"black\" stroke=\"black\" points=\"777.49,-103.81 787.99,-102.38 778.89,-96.95 777.49,-103.81\"/>\n</g>\n<!-- 132852367122656+ -->\n<g id=\"node7\" class=\"node\">\n<title>132852367122656+</title>\n<ellipse fill=\"none\" stroke=\"black\" cx=\"546\" cy=\"-76.5\" rx=\"27\" ry=\"18\"/>\n<text text-anchor=\"middle\" x=\"546\" y=\"-72.8\" font-family=\"Times,serif\" font-size=\"14.00\">+</text>\n</g>\n<!-- 132852367122656+&#45;&gt;132852367122656 -->\n<g id=\"edge1\" class=\"edge\">\n<title>132852367122656+&#45;&gt;132852367122656</title>\n<path fill=\"none\" stroke=\"black\" d=\"M573.08,-77.29C580.75,-77.52 589.57,-77.79 598.78,-78.07\"/>\n<polygon fill=\"black\" stroke=\"black\" points=\"598.79,-81.57 608.89,-78.38 599,-74.57 598.79,-81.57\"/>\n</g>\n<!-- 132852367130336 -->\n<g id=\"node8\" class=\"node\">\n<title>132852367130336</title>\n<polygon fill=\"none\" stroke=\"black\" points=\"309.5,-3.5 309.5,-39.5 467.5,-39.5 467.5,-3.5 309.5,-3.5\"/>\n<text text-anchor=\"middle\" x=\"321\" y=\"-17.8\" font-family=\"Times,serif\" font-size=\"14.00\">b</text>\n<polyline fill=\"none\" stroke=\"black\" points=\"332.5,-3.5 332.5,-39.5 \"/>\n<text text-anchor=\"middle\" x=\"366\" y=\"-17.8\" font-family=\"Times,serif\" font-size=\"14.00\">data 1.00</text>\n<polyline fill=\"none\" stroke=\"black\" points=\"399.5,-3.5 399.5,-39.5 \"/>\n<text text-anchor=\"middle\" x=\"433.5\" y=\"-17.8\" font-family=\"Times,serif\" font-size=\"14.00\">grad 0.00</text>\n</g>\n<!-- 132852367130336&#45;&gt;132852367122656+ -->\n<g id=\"edge19\" class=\"edge\">\n<title>132852367130336&#45;&gt;132852367122656+</title>\n<path fill=\"none\" stroke=\"black\" d=\"M456.28,-39.52C465.33,-42.33 474.44,-45.35 483,-48.5 493.5,-52.36 504.72,-57.2 514.69,-61.76\"/>\n<polygon fill=\"black\" stroke=\"black\" points=\"513.25,-64.96 523.79,-66.01 516.21,-58.61 513.25,-64.96\"/>\n</g>\n<!-- 132852367123280 -->\n<g id=\"node9\" class=\"node\">\n<title>132852367123280</title>\n<polygon fill=\"none\" stroke=\"black\" points=\"1185,-61.5 1185,-97.5 1350,-97.5 1350,-61.5 1185,-61.5\"/>\n<text text-anchor=\"middle\" x=\"1196.5\" y=\"-75.8\" font-family=\"Times,serif\" font-size=\"14.00\">o</text>\n<polyline fill=\"none\" stroke=\"black\" points=\"1208,-61.5 1208,-97.5 \"/>\n<text text-anchor=\"middle\" x=\"1245\" y=\"-75.8\" font-family=\"Times,serif\" font-size=\"14.00\">data 23.25</text>\n<polyline fill=\"none\" stroke=\"black\" points=\"1282,-61.5 1282,-97.5 \"/>\n<text text-anchor=\"middle\" x=\"1316\" y=\"-75.8\" font-family=\"Times,serif\" font-size=\"14.00\">grad 0.00</text>\n</g>\n<!-- 132852367123280*&#45;&gt;132852367123280 -->\n<g id=\"edge2\" class=\"edge\">\n<title>132852367123280*&#45;&gt;132852367123280</title>\n<path fill=\"none\" stroke=\"black\" d=\"M1149.32,-79.5C1156.87,-79.5 1165.55,-79.5 1174.71,-79.5\"/>\n<polygon fill=\"black\" stroke=\"black\" points=\"1174.8,-83 1184.8,-79.5 1174.8,-76 1174.8,-83\"/>\n</g>\n<!-- 132852367121840 -->\n<g id=\"node11\" class=\"node\">\n<title>132852367121840</title>\n<polygon fill=\"none\" stroke=\"black\" points=\"294,-58.5 294,-94.5 483,-94.5 483,-58.5 294,-58.5\"/>\n<text text-anchor=\"middle\" x=\"317.5\" y=\"-72.8\" font-family=\"Times,serif\" font-size=\"14.00\">x3w3</text>\n<polyline fill=\"none\" stroke=\"black\" points=\"341,-58.5 341,-94.5 \"/>\n<text text-anchor=\"middle\" x=\"378\" y=\"-72.8\" font-family=\"Times,serif\" font-size=\"14.00\">data 20.00</text>\n<polyline fill=\"none\" stroke=\"black\" points=\"415,-58.5 415,-94.5 \"/>\n<text text-anchor=\"middle\" x=\"449\" y=\"-72.8\" font-family=\"Times,serif\" font-size=\"14.00\">grad 0.00</text>\n</g>\n<!-- 132852367121840&#45;&gt;132852367122656+ -->\n<g id=\"edge10\" class=\"edge\">\n<title>132852367121840&#45;&gt;132852367122656+</title>\n<path fill=\"none\" stroke=\"black\" d=\"M483.1,-76.5C492.12,-76.5 500.84,-76.5 508.75,-76.5\"/>\n<polygon fill=\"black\" stroke=\"black\" points=\"508.99,-80 518.99,-76.5 508.99,-73 508.99,-80\"/>\n</g>\n<!-- 132852367121840* -->\n<g id=\"node12\" class=\"node\">\n<title>132852367121840*</title>\n<ellipse fill=\"none\" stroke=\"black\" cx=\"231\" cy=\"-73.5\" rx=\"27\" ry=\"18\"/>\n<text text-anchor=\"middle\" x=\"231\" y=\"-69.8\" font-family=\"Times,serif\" font-size=\"14.00\">*</text>\n</g>\n<!-- 132852367121840*&#45;&gt;132852367121840 -->\n<g id=\"edge3\" class=\"edge\">\n<title>132852367121840*&#45;&gt;132852367121840</title>\n<path fill=\"none\" stroke=\"black\" d=\"M258.03,-74C265.66,-74.15 274.52,-74.32 283.94,-74.5\"/>\n<polygon fill=\"black\" stroke=\"black\" points=\"283.88,-78 293.94,-74.7 284.01,-71 283.88,-78\"/>\n</g>\n<!-- 132852365828944 -->\n<g id=\"node13\" class=\"node\">\n<title>132852365828944</title>\n<polygon fill=\"none\" stroke=\"black\" points=\"0,-55.5 0,-91.5 168,-91.5 168,-55.5 0,-55.5\"/>\n<text text-anchor=\"middle\" x=\"16.5\" y=\"-69.8\" font-family=\"Times,serif\" font-size=\"14.00\">w3</text>\n<polyline fill=\"none\" stroke=\"black\" points=\"33,-55.5 33,-91.5 \"/>\n<text text-anchor=\"middle\" x=\"66.5\" y=\"-69.8\" font-family=\"Times,serif\" font-size=\"14.00\">data 5.00</text>\n<polyline fill=\"none\" stroke=\"black\" points=\"100,-55.5 100,-91.5 \"/>\n<text text-anchor=\"middle\" x=\"134\" y=\"-69.8\" font-family=\"Times,serif\" font-size=\"14.00\">grad 0.00</text>\n</g>\n<!-- 132852365828944&#45;&gt;132852367121840* -->\n<g id=\"edge18\" class=\"edge\">\n<title>132852365828944&#45;&gt;132852367121840*</title>\n<path fill=\"none\" stroke=\"black\" d=\"M168.09,-73.5C176.96,-73.5 185.62,-73.5 193.51,-73.5\"/>\n<polygon fill=\"black\" stroke=\"black\" points=\"193.75,-77 203.75,-73.5 193.75,-70 193.75,-77\"/>\n</g>\n<!-- 132852367121792 -->\n<g id=\"node14\" class=\"node\">\n<title>132852367121792</title>\n<polygon fill=\"none\" stroke=\"black\" points=\"294,-138.5 294,-174.5 483,-174.5 483,-138.5 294,-138.5\"/>\n<text text-anchor=\"middle\" x=\"317.5\" y=\"-152.8\" font-family=\"Times,serif\" font-size=\"14.00\">x1w1</text>\n<polyline fill=\"none\" stroke=\"black\" points=\"341,-138.5 341,-174.5 \"/>\n<text text-anchor=\"middle\" x=\"378\" y=\"-152.8\" font-family=\"Times,serif\" font-size=\"14.00\">data 45.00</text>\n<polyline fill=\"none\" stroke=\"black\" points=\"415,-138.5 415,-174.5 \"/>\n<text text-anchor=\"middle\" x=\"449\" y=\"-152.8\" font-family=\"Times,serif\" font-size=\"14.00\">grad 0.00</text>\n</g>\n<!-- 132852367123376+ -->\n<g id=\"node17\" class=\"node\">\n<title>132852367123376+</title>\n<ellipse fill=\"none\" stroke=\"black\" cx=\"546\" cy=\"-156.5\" rx=\"27\" ry=\"18\"/>\n<text text-anchor=\"middle\" x=\"546\" y=\"-152.8\" font-family=\"Times,serif\" font-size=\"14.00\">+</text>\n</g>\n<!-- 132852367121792&#45;&gt;132852367123376+ -->\n<g id=\"edge21\" class=\"edge\">\n<title>132852367121792&#45;&gt;132852367123376+</title>\n<path fill=\"none\" stroke=\"black\" d=\"M483.1,-156.5C492.12,-156.5 500.84,-156.5 508.75,-156.5\"/>\n<polygon fill=\"black\" stroke=\"black\" points=\"508.99,-160 518.99,-156.5 508.99,-153 508.99,-160\"/>\n</g>\n<!-- 132852367121792*&#45;&gt;132852367121792 -->\n<g id=\"edge4\" class=\"edge\">\n<title>132852367121792*&#45;&gt;132852367121792</title>\n<path fill=\"none\" stroke=\"black\" d=\"M258.03,-156.5C265.66,-156.5 274.52,-156.5 283.94,-156.5\"/>\n<polygon fill=\"black\" stroke=\"black\" points=\"283.94,-160 293.94,-156.5 283.94,-153 283.94,-160\"/>\n</g>\n<!-- 132852367123376 -->\n<g id=\"node16\" class=\"node\">\n<title>132852367123376</title>\n<polygon fill=\"none\" stroke=\"black\" points=\"609,-131.5 609,-167.5 751,-167.5 751,-131.5 609,-131.5\"/>\n<text text-anchor=\"middle\" x=\"646\" y=\"-145.8\" font-family=\"Times,serif\" font-size=\"14.00\">data 72.00</text>\n<polyline fill=\"none\" stroke=\"black\" points=\"683,-131.5 683,-167.5 \"/>\n<text text-anchor=\"middle\" x=\"717\" y=\"-145.8\" font-family=\"Times,serif\" font-size=\"14.00\">grad 0.00</text>\n</g>\n<!-- 132852367123376&#45;&gt;132852367129568+ -->\n<g id=\"edge17\" class=\"edge\">\n<title>132852367123376&#45;&gt;132852367129568+</title>\n<path fill=\"none\" stroke=\"black\" d=\"M737.75,-131.44C751.97,-126.92 766.78,-122.21 779.46,-118.17\"/>\n<polygon fill=\"black\" stroke=\"black\" points=\"780.66,-121.46 789.12,-115.1 778.53,-114.79 780.66,-121.46\"/>\n</g>\n<!-- 132852367123376+&#45;&gt;132852367123376 -->\n<g id=\"edge5\" class=\"edge\">\n<title>132852367123376+&#45;&gt;132852367123376</title>\n<path fill=\"none\" stroke=\"black\" d=\"M573.08,-155.12C580.75,-154.71 589.57,-154.24 598.78,-153.75\"/>\n<polygon fill=\"black\" stroke=\"black\" points=\"599.09,-157.24 608.89,-153.22 598.72,-150.25 599.09,-157.24\"/>\n</g>\n<!-- 132852367122896 -->\n<g id=\"node18\" class=\"node\">\n<title>132852367122896</title>\n<polygon fill=\"none\" stroke=\"black\" points=\"294,-206.5 294,-242.5 483,-242.5 483,-206.5 294,-206.5\"/>\n<text text-anchor=\"middle\" x=\"317.5\" y=\"-220.8\" font-family=\"Times,serif\" font-size=\"14.00\">x2w2</text>\n<polyline fill=\"none\" stroke=\"black\" points=\"341,-206.5 341,-242.5 \"/>\n<text text-anchor=\"middle\" x=\"378\" y=\"-220.8\" font-family=\"Times,serif\" font-size=\"14.00\">data 27.00</text>\n<polyline fill=\"none\" stroke=\"black\" points=\"415,-206.5 415,-242.5 \"/>\n<text text-anchor=\"middle\" x=\"449\" y=\"-220.8\" font-family=\"Times,serif\" font-size=\"14.00\">grad 0.00</text>\n</g>\n<!-- 132852367122896&#45;&gt;132852367123376+ -->\n<g id=\"edge11\" class=\"edge\">\n<title>132852367122896&#45;&gt;132852367123376+</title>\n<path fill=\"none\" stroke=\"black\" d=\"M432.4,-206.36C448.32,-199.57 466.51,-191.75 483,-184.5 493.06,-180.08 503.99,-175.18 513.83,-170.72\"/>\n<polygon fill=\"black\" stroke=\"black\" points=\"515.58,-173.77 523.24,-166.45 512.69,-167.4 515.58,-173.77\"/>\n</g>\n<!-- 132852367122896*&#45;&gt;132852367122896 -->\n<g id=\"edge6\" class=\"edge\">\n<title>132852367122896*&#45;&gt;132852367122896</title>\n<path fill=\"none\" stroke=\"black\" d=\"M258.03,-236.16C265.66,-235.47 274.52,-234.67 283.94,-233.82\"/>\n<polygon fill=\"black\" stroke=\"black\" points=\"284.3,-237.31 293.94,-232.92 283.67,-230.33 284.3,-237.31\"/>\n</g>\n<!-- 132852367129568 -->\n<g id=\"node20\" class=\"node\">\n<title>132852367129568</title>\n<polygon fill=\"none\" stroke=\"black\" points=\"877,-89.5 877,-125.5 1059,-125.5 1059,-89.5 877,-89.5\"/>\n<text text-anchor=\"middle\" x=\"897\" y=\"-103.8\" font-family=\"Times,serif\" font-size=\"14.00\">sum</text>\n<polyline fill=\"none\" stroke=\"black\" points=\"917,-89.5 917,-125.5 \"/>\n<text text-anchor=\"middle\" x=\"954\" y=\"-103.8\" font-family=\"Times,serif\" font-size=\"14.00\">data 93.00</text>\n<polyline fill=\"none\" stroke=\"black\" points=\"991,-89.5 991,-125.5 \"/>\n<text text-anchor=\"middle\" x=\"1025\" y=\"-103.8\" font-family=\"Times,serif\" font-size=\"14.00\">grad 0.00</text>\n</g>\n<!-- 132852367129568&#45;&gt;132852367123280* -->\n<g id=\"edge16\" class=\"edge\">\n<title>132852367129568&#45;&gt;132852367123280*</title>\n<path fill=\"none\" stroke=\"black\" d=\"M1059.18,-90.89C1068.61,-89.15 1077.75,-87.47 1085.98,-85.95\"/>\n<polygon fill=\"black\" stroke=\"black\" points=\"1086.66,-89.39 1095.86,-84.13 1085.39,-82.5 1086.66,-89.39\"/>\n</g>\n<!-- 132852367129568+&#45;&gt;132852367129568 -->\n<g id=\"edge7\" class=\"edge\">\n<title>132852367129568+&#45;&gt;132852367129568</title>\n<path fill=\"none\" stroke=\"black\" d=\"M841.13,-107.5C848.67,-107.5 857.39,-107.5 866.64,-107.5\"/>\n<polygon fill=\"black\" stroke=\"black\" points=\"866.87,-111 876.87,-107.5 866.87,-104 866.87,-111\"/>\n</g>\n<!-- 132852365832688 -->\n<g id=\"node22\" class=\"node\">\n<title>132852365832688</title>\n<polygon fill=\"none\" stroke=\"black\" points=\"1.5,-0.5 1.5,-36.5 166.5,-36.5 166.5,-0.5 1.5,-0.5\"/>\n<text text-anchor=\"middle\" x=\"16.5\" y=\"-14.8\" font-family=\"Times,serif\" font-size=\"14.00\">x3</text>\n<polyline fill=\"none\" stroke=\"black\" points=\"31.5,-0.5 31.5,-36.5 \"/>\n<text text-anchor=\"middle\" x=\"65\" y=\"-14.8\" font-family=\"Times,serif\" font-size=\"14.00\">data 4.00</text>\n<polyline fill=\"none\" stroke=\"black\" points=\"98.5,-0.5 98.5,-36.5 \"/>\n<text text-anchor=\"middle\" x=\"132.5\" y=\"-14.8\" font-family=\"Times,serif\" font-size=\"14.00\">grad 0.00</text>\n</g>\n<!-- 132852365832688&#45;&gt;132852367121840* -->\n<g id=\"edge14\" class=\"edge\">\n<title>132852365832688&#45;&gt;132852367121840*</title>\n<path fill=\"none\" stroke=\"black\" d=\"M143.33,-36.58C151.66,-39.42 160.09,-42.44 168,-45.5 178.43,-49.54 189.63,-54.42 199.61,-58.97\"/>\n<polygon fill=\"black\" stroke=\"black\" points=\"198.18,-62.17 208.73,-63.19 201.12,-55.82 198.18,-62.17\"/>\n</g>\n</g>\n</svg>\n",
            "text/plain": [
              "<graphviz.graphs.Digraph at 0x78d41a2c29e0>"
            ]
          },
          "metadata": {},
          "execution_count": 11
        }
      ],
      "source": [
        "# enter your birthday here (will be used to generate random numbers)\n",
        "d, m, y = 29, 2, 1980\n",
        "\n",
        "# init the random number generator\n",
        "import random\n",
        "random.seed(d+m+y); r_range = (1, 9)\n",
        "\n",
        "x1 = Value(random.randint(*r_range)); x1.label='x1'\n",
        "x2 = Value(random.randint(*r_range)); x2.label='x2'\n",
        "x3 = Value(random.randint(*r_range)); x3.label='x3'\n",
        "w1 = Value(random.randint(*r_range)); w1.label='w1'\n",
        "w2 = Value(random.randint(*r_range)); w2.label='w2'\n",
        "w3 = Value(random.randint(*r_range)); w3.label='w3'\n",
        "b = Value(random.randint(*r_range));  b.label='b'\n",
        "\n",
        "x1w1 = x1*w1; x1w1.label='x1w1'\n",
        "x2w2 = x2*w2; x2w2.label='x2w2'\n",
        "x3w3 = x3*w3; x3w3.label='x3w3'\n",
        "sums = (x1w1 + x2w2) + (x3w3 + b); sums.label='sum'\n",
        "o = sums * Value(0.25); o.label='o'\n",
        "o.label='o';\n",
        "draw_dot(o)\n",
        "\n",
        "# Todo: what are the gradients?\n",
        "o.grad = 1.0\n"
      ]
    }
  ],
  "metadata": {
    "kernelspec": {
      "display_name": "Python 3.9.12 64-bit",
      "language": "python",
      "name": "python3"
    },
    "language_info": {
      "codemirror_mode": {
        "name": "ipython",
        "version": 3
      },
      "file_extension": ".py",
      "mimetype": "text/x-python",
      "name": "python",
      "nbconvert_exporter": "python",
      "pygments_lexer": "ipython3",
      "version": "3.9.12"
    },
    "vscode": {
      "interpreter": {
        "hash": "0a05e4fa746b81761c76a645b508c0f51cdd970f4b4b50ae36c6a73f9a174174"
      }
    },
    "colab": {
      "provenance": [],
      "include_colab_link": true
    }
  },
  "nbformat": 4,
  "nbformat_minor": 0
}