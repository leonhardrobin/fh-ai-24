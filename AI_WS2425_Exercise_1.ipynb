{
  "nbformat": 4,
  "nbformat_minor": 0,
  "metadata": {
    "colab": {
      "provenance": [],
      "include_colab_link": true
    },
    "kernelspec": {
      "name": "python3",
      "display_name": "Python 3"
    },
    "language_info": {
      "name": "python"
    }
  },
  "cells": [
    {
      "cell_type": "markdown",
      "metadata": {
        "id": "view-in-github",
        "colab_type": "text"
      },
      "source": [
        "<a href=\"https://colab.research.google.com/github/leonhardrobin/fh-ai-24/blob/main/AI_WS2425_Exercise_1.ipynb\" target=\"_parent\"><img src=\"https://colab.research.google.com/assets/colab-badge.svg\" alt=\"Open In Colab\"/></a>"
      ]
    },
    {
      "cell_type": "code",
      "metadata": {
        "id": "lqJ363ojGHRr",
        "colab": {
          "base_uri": "https://localhost:8080/"
        },
        "outputId": "69832668-c89d-488e-9c32-0abf9c5e1ff9"
      },
      "source": [
        "# import a couple of libraries\n",
        "import math\n",
        "from collections import Counter\n",
        "import random\n",
        "print(\"import completed\")\n"
      ],
      "execution_count": 3,
      "outputs": [
        {
          "output_type": "stream",
          "name": "stdout",
          "text": [
            "import completed\n"
          ]
        }
      ]
    },
    {
      "cell_type": "markdown",
      "metadata": {
        "id": "txLkiDsIEe4U"
      },
      "source": [
        "Create a \"Fish\" class with the properties length, brightness, and a text label describing which class (i.e., Salmon/Bass) it belongs to."
      ]
    },
    {
      "cell_type": "code",
      "metadata": {
        "id": "_Ox0rsimJEHD"
      },
      "source": [
        "class Fish(object):\n",
        "  def __init__(self,length,brightness,label):\n",
        "    self.length=length\n",
        "    self.brightness = brightness\n",
        "    self.label = label\n",
        "\n",
        "  def distanceTo(self,r):\n",
        "    #Task1: the function should return the Euclidian distance between the object (i.e., \"self\") and a reference object r\n",
        "\n",
        "    #return math.sqrt(math.pow(self.length - r.length, 2) + math.pow(self.brightness - r.brightness, 2))\n",
        "    return math.dist((self.length, self.brightness), (r.length, r.brightness))\n"
      ],
      "execution_count": 4,
      "outputs": []
    },
    {
      "cell_type": "markdown",
      "metadata": {
        "id": "ibKvKpInE_II"
      },
      "source": [
        "The KNN classifier class has 2 functions - a constructor that initializes an instance with an array of training data; and a classify function which returns the predicted class label based on the [n] nearest neighbours."
      ]
    },
    {
      "cell_type": "code",
      "metadata": {
        "id": "iPskLXJeG2XX"
      },
      "source": [
        "class KNN(object):\n",
        "  def __init__(self,array):\n",
        "    self.array = array\n",
        "\n",
        "  def classify(self,fish,k):\n",
        "    #Task2: return and print the result of the classification\n",
        "    distances = []\n",
        "    for i in self.array:\n",
        "      distances.append([fish.distanceTo(i), i.label])\n",
        "\n",
        "    distances.sort()\n",
        "    nearest = distances[:k]\n",
        "    nearest = Counter(item[1] for item in nearest)\n",
        "    mostCommon = nearest.most_common(1)[0][0]\n",
        "\n",
        "    #print(mostCommon) # commented out to reduce output of the nexts tasks\n",
        "    return mostCommon"
      ],
      "execution_count": 5,
      "outputs": []
    },
    {
      "cell_type": "markdown",
      "metadata": {
        "id": "FKrv1VaWrmpw"
      },
      "source": [
        "Some examples to test. We create a couple of fish with certain properties and class labels. Then, we instantiate the KNN classifier and try to classify a couple of unlabeled fish."
      ]
    },
    {
      "cell_type": "code",
      "metadata": {
        "id": "upo4cCZDG5qW",
        "colab": {
          "base_uri": "https://localhost:8080/"
        },
        "outputId": "5b7c9a1d-ebf7-4389-c6e8-abf230e1a2e8"
      },
      "source": [
        "\n",
        "#Task3: Create a function that fills a new array (\"pond\") with 100 random fish, 50 of type \"Salmon\" and 50 of type \"Bass\". For both types,\n",
        "# their properties i.e., length/brightness should be randomly generated but have an individual peak value. For example,\n",
        "# \"Salmons\" have high length (5-10) and low brightness (0-6), while \"Bass\" have low length (0-6) but high brightness (5-10)\n",
        "def randomFish():\n",
        "    pond = []\n",
        "    for i in range(50):\n",
        "        pond.append(Fish(random.randint(5, 10), random.randint(0, 6), \"Salmon\"))\n",
        "    for i in range(50):\n",
        "        pond.append(Fish(random.randint(0, 6), random.randint(5, 10), \"Bass\"))\n",
        "    return pond\n",
        "\n",
        "pond = randomFish()\n",
        "\n",
        "#Task4: Instantiate the KNN classifier with the 100 fish array and also create 5 fish instances with an empty label,\n",
        "# which you want to fall into the one or other category. Classify them with K-values from 1 to 5 and print out the result\n",
        "\n",
        "knn = KNN(pond)\n",
        "\n",
        "for i in range(5):\n",
        "    fish = Fish(random.randint(0, 10), random.randint(0, 10), \"\")\n",
        "    print(knn.classify(fish, i + 1))\n",
        "\n",
        "\n",
        "#Task5: Create 20 fish with a label (\"test set\"), which you want to fall into the one or other category. Classify them with K=3 and\n",
        "#calculate the resulting accuracy (by comparing your predefined label with the classifier result)\n",
        "\n",
        "salmon = [Fish(random.randint(5, 10), random.randint(0, 6), \"Salmon\") for i in range(10)]\n",
        "\n",
        "bass = [Fish(random.randint(0, 6), random.randint(5, 10), \"Bass\") for i in range(10)]\n",
        "\n",
        "testSet = salmon + bass\n",
        "classification = [knn.classify(i, 3) for i in testSet]\n",
        "\n",
        "\n",
        "correct = 0\n",
        "for i in range(len(testSet)):\n",
        "    if testSet[i].label == classification[i]:\n",
        "        correct += 1\n",
        "\n",
        "accuracy = correct / len(testSet)\n",
        "\n",
        "print(accuracy)\n",
        "print(classification)\n",
        "\n",
        "\n"
      ],
      "execution_count": 8,
      "outputs": [
        {
          "output_type": "stream",
          "name": "stdout",
          "text": [
            "Bass\n",
            "Salmon\n",
            "Bass\n",
            "Bass\n",
            "Salmon\n",
            "1.0\n",
            "['Salmon', 'Salmon', 'Salmon', 'Salmon', 'Salmon', 'Salmon', 'Salmon', 'Salmon', 'Salmon', 'Salmon', 'Bass', 'Bass', 'Bass', 'Bass', 'Bass', 'Bass', 'Bass', 'Bass', 'Bass', 'Bass']\n"
          ]
        }
      ]
    },
    {
      "cell_type": "code",
      "source": [
        "# prompt: plot the data\n",
        "\n",
        "import matplotlib.pyplot as plt\n",
        "\n",
        "# Assuming 'pond' and 'testSet' are defined as in the previous code\n",
        "\n",
        "# Prepare data for plotting\n",
        "salmon_lengths = [fish.length for fish in pond if fish.label == \"Salmon\"]\n",
        "salmon_brightnesses = [fish.brightness for fish in pond if fish.label == \"Salmon\"]\n",
        "bass_lengths = [fish.length for fish in pond if fish.label == \"Bass\"]\n",
        "bass_brightnesses = [fish.brightness for fish in pond if fish.label == \"Bass\"]\n",
        "\n",
        "test_lengths = [fish.length for fish in testSet]\n",
        "test_brightnesses = [fish.brightness for fish in testSet]\n",
        "test_labels = [fish.label for fish in testSet]\n",
        "\n",
        "# Create the plot\n",
        "plt.figure(figsize=(10, 6))\n",
        "plt.scatter(salmon_lengths, salmon_brightnesses, label=\"Salmon\", color=\"red\", marker='o')\n",
        "plt.scatter(bass_lengths, bass_brightnesses, label=\"Bass\", color=\"blue\", marker='x')\n",
        "plt.scatter(test_lengths, test_brightnesses, label=\"Test Fish\", color=\"green\", marker='s')\n",
        "\n",
        "# Add labels and title\n",
        "plt.xlabel(\"Length\")\n",
        "plt.ylabel(\"Brightness\")\n",
        "plt.title(\"Fish Classification\")\n",
        "plt.legend()\n",
        "\n",
        "# Show the plot\n",
        "plt.show()"
      ],
      "metadata": {
        "id": "tVqhbuWcoMWg",
        "outputId": "6391608f-f730-4845-fc67-f769327578c6",
        "colab": {
          "base_uri": "https://localhost:8080/",
          "height": 564
        }
      },
      "execution_count": 7,
      "outputs": [
        {
          "output_type": "display_data",
          "data": {
            "text/plain": [
              "<Figure size 1000x600 with 1 Axes>"
            ],
            "image/png": "[encoded data removed]"
          },
          "metadata": {}
        }
      ]
    }
  ]
}