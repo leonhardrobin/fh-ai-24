{
  "nbformat": 4,
  "nbformat_minor": 0,
  "metadata": {
    "colab": {
      "provenance": [],
      "include_colab_link": true
    },
    "kernelspec": {
      "name": "python3",
      "display_name": "Python 3"
    },
    "language_info": {
      "name": "python"
    }
  },
  "cells": [
    {
      "cell_type": "markdown",
      "metadata": {
        "id": "view-in-github",
        "colab_type": "text"
      },
      "source": [
        "<a href=\"https://colab.research.google.com/github/leonhardrobin/fh-ai-24/blob/main/AI_WS2425_Exercise_1.ipynb\" target=\"_parent\"><img src=\"https://colab.research.google.com/assets/colab-badge.svg\" alt=\"Open In Colab\"/></a>"
      ]
    },
    {
      "cell_type": "code",
      "metadata": {
        "id": "lqJ363ojGHRr",
        "colab": {
          "base_uri": "https://localhost:8080/"
        },
        "outputId": "e6456c71-374a-40f6-9dab-f1c41a333e12"
      },
      "source": [
        "# import a couple of libraries\n",
        "import math\n",
        "from collections import Counter\n",
        "print(\"import completed\")\n"
      ],
      "execution_count": 3,
      "outputs": [
        {
          "output_type": "stream",
          "name": "stdout",
          "text": [
            "import completed\n"
          ]
        }
      ]
    },
    {
      "cell_type": "markdown",
      "metadata": {
        "id": "txLkiDsIEe4U"
      },
      "source": [
        "Create a \"Fish\" class with the properties length, brightness, and a text label describing which class (i.e., Salmon/Bass) it belongs to."
      ]
    },
    {
      "cell_type": "code",
      "metadata": {
        "id": "_Ox0rsimJEHD",
        "colab": {
          "base_uri": "https://localhost:8080/"
        },
        "outputId": "e8dbe226-2ba7-46b0-f4e4-7a7d40f1af04"
      },
      "source": [
        "class Fish(object):\n",
        "  def __init__(self,length,brightness,label):\n",
        "    self.length=length\n",
        "    self.brightness = brightness\n",
        "    self.label = label\n",
        "\n",
        "  def distanceTo(self,r):\n",
        "    #Task1: the function should return the Euclidian distance between the object (i.e., \"self\") and a reference object r\n",
        "\n",
        "    #return math.sqrt(math.pow(self.length - r.length, 2) + math.pow(self.brightness - r.brightness, 2))\n",
        "    return math.dist((self.length, self.brightness), (r.length, r.brightness))\n",
        "\n",
        "\n",
        "f = Fish(5,6, \"bruh\")\n",
        "f1 = Fish(6,5, \"bruh1\")\n",
        "\n",
        "\n",
        "print(f.distanceTo(f1))\n",
        "print(f1.distanceTo(f))"
      ],
      "execution_count": 9,
      "outputs": [
        {
          "output_type": "stream",
          "name": "stdout",
          "text": [
            "1.4142135623730951\n",
            "1.4142135623730951\n"
          ]
        }
      ]
    },
    {
      "cell_type": "markdown",
      "metadata": {
        "id": "ibKvKpInE_II"
      },
      "source": [
        "The KNN classifier class has 2 functions - a constructor that initializes an instance with an array of training data; and a classify function which returns the predicted class label based on the [n] nearest neighbours."
      ]
    },
    {
      "cell_type": "code",
      "metadata": {
        "colab": {
          "base_uri": "https://localhost:8080/"
        },
        "id": "iPskLXJeG2XX",
        "outputId": "80d69f5a-77e0-43ca-80c9-be4bf319a49e"
      },
      "source": [
        "class KNN(object):\n",
        "  def __init__(self,array):\n",
        "    self.array = array\n",
        "\n",
        "  def classify(self,fish,k):\n",
        "    #Task2: return and print the result of the classification\n",
        "\n",
        "    print(result)\n",
        "    return(result)\n",
        "\n",
        "print(\"class KNN interpreted\")"
      ],
      "execution_count": null,
      "outputs": [
        {
          "output_type": "stream",
          "name": "stdout",
          "text": [
            "class KNN interpreted\n"
          ]
        }
      ]
    },
    {
      "cell_type": "markdown",
      "metadata": {
        "id": "FKrv1VaWrmpw"
      },
      "source": [
        "Some examples to test. We create a couple of fish with certain properties and class labels. Then, we instantiate the KNN classifier and try to classify a couple of unlabeled fish."
      ]
    },
    {
      "cell_type": "code",
      "metadata": {
        "id": "upo4cCZDG5qW"
      },
      "source": [
        "\n",
        "#Task3: Create a function that fills a new array (\"pond\") with 100 random fish, 50 of type \"Salmon\" and 50 of type \"Bass\". For both types,\n",
        "# their properties i.e., length/brightness should be randomly generated but have an individual peak value. For example,\n",
        "# \"Salmons\" have high length (5-10) and low brightness (0-6), while \"Bass\" have low length (0-6) but high brightness (5-10)\n",
        "\n",
        "#Task4: Instantiate the KNN classifier with the 100 fish array and also create 5 fish instances with an empty label,\n",
        "# which you want to fall into the one or other category. Classify them with K-values from 1 to 5 and print out the result\n",
        "\n",
        "#Task5: Create 20 fish with a label (\"test set\"), which you want to fall into the one or other category. Classify them with K=3 and\n",
        "#calculate the resulting accuracy (by comparing your predefined label with the classifier result)\n",
        "\n",
        "\n",
        "\n"
      ],
      "execution_count": null,
      "outputs": []
    }
  ]
}